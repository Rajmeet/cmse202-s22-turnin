{
 "cells": [
  {
   "cell_type": "markdown",
   "metadata": {},
   "source": [
    "## <p style=\"text-align: right;\"> &#9989; Rajmeet Singh Chandok</p>"
   ]
  },
  {
   "cell_type": "markdown",
   "metadata": {},
   "source": [
    "# CMSE 202 Final (Section 002 - Spring 2022)\n",
    "\n",
    "The goal of this final is to give you the opportunity to test out some of the skills that you've developed having now finished CMSE 202. In particular, you'll be committing and pushing repository changes to a GitHub repository, working with data to build a network graph, performing regression analysis, and classifying data using a machine learning classifier. You should find that you have all of the skills necessary to complete this exam having completed the second half of CMSE 202!\n",
    "\n",
    "You are encouraged to look through the entire exam before you get started so that you can appropriately budget your time and understand the broad goals of the exam. Once you've read through it, you'll probably want to make sure you do Part 1 first to ensure that your GitHub repository is working correctly. Let your instructor know right away if you run into issues!\n",
    "\n",
    "The exam is set up so that even if you get stuck on one part there are opportunities to get points on the other parts, so consider jumping ahead if you feel like you aren't making progress and then come back later if you have time.\n",
    "\n",
    "**Important note about using online resources**: This exam is \"open internet\". That means that you can look up documentation, google how to accomplish certain Python tasks, etc. Being able to effectively use the internet for computational modeling and data science is a very important skill, so we want to make sure you have the opportunity to exercise that skill. **However**: The use of any person-to-person communication software is absolutely not acceptable. If you are seen accessing your email, using a chat program (e.g. Slack), or any sort of collaborative cloud storage or document software (e.g. Google Documents), you will be at risk for receiving a zero on the exam.\n",
    "\n",
    "**Keep your eyes on your screen!** Unfortunately, there isn't enough space in the room for everyone to sit at their own table so please do your best to keep your eyes on your own screen. This exam is designed to give *you* the opportunity to show the instructor what you can do and you should hold yourself accountable for maintaining a high level of academic integrity. If any of the instructors observe suspicious behavior, you will, again, risk receiving a zero. If you're completing the exam virtually, the same standards of academic integrity apply!"
   ]
  },
  {
   "cell_type": "markdown",
   "metadata": {},
   "source": [
    "---\n",
    "## Part 0: Academic integrity statement\n",
    "\n",
    "Read the following statement and edit the markdown text to put your name in the statement. This is your commitment to doing your own authentic work on this exam."
   ]
  },
  {
   "cell_type": "markdown",
   "metadata": {},
   "source": [
    "> I, **Rajmeet Singh Chandok**, affirm that this exam represents my own authetic work, without the use of any unpermitted aids or resources or person-to-person communication. I understand that this exam an an opportunity to showcase my own progress in developing and improving my computational skills and have done my best to demonstrate those skills."
   ]
  },
  {
   "cell_type": "markdown",
   "metadata": {},
   "source": [
    "---\n",
    "## Part 1: Add to your Git repository to track your progress on your exam (10 points)\n",
    "\n",
    "Before you get to far along in the exam, you're going to add it to the `cmse202-s22-turnin` repository you created in class so that you can track your progress on the exam and preserve the final version that you turn in. In order to do this you need to\n",
    "\n",
    "**&#9989; Do the following**:\n",
    "\n",
    "1. Navigate to your `cmse202-s22-turnin` repository and create a new directory called `final`.\n",
    "2. Move this notebook into that **new directory** in your repository, then **add it and commit it to your repository**.\n",
    "1. Finally, to test that everything is working, \"git push\" the file so that it ends up in your GitHub repository.\n",
    "\n",
    "**Important**: Double check you've added your Professor and your TA as collaborators to your \"turnin\" respository (you should have done this in the previous homework assignment).\n",
    "\n",
    "**Also important**: Make sure that the version of this notebook that you are working on is the same one that you just added to your repository! If you are working on a different copy of the noteobok, **none of your changes will be tracked**!\n",
    "\n",
    "If everything went as intended, the file should now show up on your GitHub account in the \"`cmse202-s22-turnin`\" repository inside the `final` directory that you just created.  Periodically, **you'll be asked to commit your changes to the repository and push them to the remote GitHub location**. Of course, you can always commit your changes more often than that, if you wish.  It can be good to get into a habit of committing your changes any time you make a significant modification, or when you stop working on the project for a bit.\n",
    "\n",
    "&#9989; **Do this**: Before you move on, put the command that your instructor should run to clone your repository in the markdown cell below."
   ]
  },
  {
   "cell_type": "markdown",
   "metadata": {},
   "source": [
    "``` bash\n",
    "# git clone https://github.com/Rajmeet/cmse202-s22-turnin.git\n",
    "\n",
    "```"
   ]
  },
  {
   "cell_type": "markdown",
   "metadata": {},
   "source": [
    "---\n",
    "## Part 2: Generate a network graph from data (30 points)"
   ]
  },
  {
   "cell_type": "markdown",
   "metadata": {},
   "source": [
    "The image below shows a simple graph with 4 nodes (nodes 0, 1, 2 and 3) and some edges connecting them. \n",
    "\n",
    "![final_graph.png](https://raw.githubusercontent.com/msu-cmse-courses/cmse202-S22-data/main/data/final_graph.png)\n",
    "\n",
    "&#9989;&nbsp; **Question 1 (8 points):**  Create a dictionary as the adjacency list for the graph above, where the key for each element is a node and the value for each element is a list of connected nodes."
   ]
  },
  {
   "cell_type": "code",
   "execution_count": 1,
   "metadata": {},
   "outputs": [],
   "source": [
    "adjacency_list = {'0':['1'], '1':['0','2'], '2':['1','3'], '3':['1','2']}"
   ]
  },
  {
   "cell_type": "markdown",
   "metadata": {},
   "source": [
    "&#9989;&nbsp; **Question 2 (8 points):**  Convert the adjacency list into a graph object, using Networkx.\n",
    "\n",
    "And then show the list of all edges in this graph, which is an attribute of the graph object.\n",
    "\n",
    "Remember to import the package first."
   ]
  },
  {
   "cell_type": "code",
   "execution_count": 3,
   "metadata": {},
   "outputs": [
    {
     "data": {
      "text/plain": [
       "EdgeView([('0', '1'), ('1', '2'), ('1', '3'), ('2', '3')])"
      ]
     },
     "execution_count": 3,
     "metadata": {},
     "output_type": "execute_result"
    }
   ],
   "source": [
    "import networkx as nx\n",
    "G = nx.from_dict_of_lists(adjacency_list)\n",
    "G.edges()"
   ]
  },
  {
   "cell_type": "markdown",
   "metadata": {},
   "source": [
    "&#9989;&nbsp; **Question 3 (8 points):**  The positions (x- and y-coordinates) for each node is specified below. \n",
    "\n",
    "Node 0: [0,3]\n",
    "\n",
    "Node 1: [1,1.5]\n",
    "\n",
    "Node 2: [2,3]\n",
    "\n",
    "Node 3: [3,0]\n",
    "\n",
    "Create a dictionary to store the position information. And then visualize the graph, with the nodes allocated by positions. And show node labels in the graph.\n"
   ]
  },
  {
   "cell_type": "code",
   "execution_count": 4,
   "metadata": {},
   "outputs": [
    {
     "data": {
      "image/png": "[encoded data removed]",
      "text/plain": [
       "<Figure size 432x288 with 1 Axes>"
      ]
     },
     "metadata": {},
     "output_type": "display_data"
    }
   ],
   "source": [
    "pos = {'0':[0,3],'1':[1,1.5],'2':[2,3],'3':[3,0]}\n",
    "nx.draw(G,pos,with_labels=True)"
   ]
  },
  {
   "cell_type": "markdown",
   "metadata": {},
   "source": [
    "&#9989;&nbsp; **Question 4 (6 points):** Now let's add one more node, node 4, into the graph. And node 4 just has one edge, which connects node 4 to node 2.  (Networkx provides the functions to add nodes and edges.)\n",
    "\n",
    "The position for node 4 is: [3,3]\n",
    "\n",
    "Add the new node and the new edge to the graph and then visualize the expanded graph."
   ]
  },
  {
   "cell_type": "code",
   "execution_count": 5,
   "metadata": {},
   "outputs": [
    {
     "data": {
      "image/png": "[encoded data removed]",
      "text/plain": [
       "<Figure size 432x288 with 1 Axes>"
      ]
     },
     "metadata": {},
     "output_type": "display_data"
    }
   ],
   "source": [
    "G.add_node('4')\n",
    "G.add_edge('4','2')\n",
    "pos['4'] = [3,3]\n",
    "nx.draw(G,pos,with_labels=True)"
   ]
  },
  {
   "cell_type": "markdown",
   "metadata": {},
   "source": [
    "---\n",
    "### &#128721; STOP\n",
    "**Pause to commit your changes to your Git repository!**\n",
    "m\n",
    "Take a moment to save your notebook, commit the changes to your Git repository using the commit message \"**Committing Part 2**\", and push the changes to GitHub.\n",
    "\n",
    "---"
   ]
  },
  {
   "cell_type": "markdown",
   "metadata": {},
   "source": [
    "---\n",
    "## Part 3: Perform a regression analysis on data (30 points)"
   ]
  },
  {
   "cell_type": "markdown",
   "metadata": {},
   "source": [
    "&#9989;&nbsp; **Question 5 (5 points):** A data file \"data_exam.txt\" is provided in D2L. Each row is a data point. The first 3 columns are the 3 independent variables (x1, x2, x3). The 4th column is the dependent variable (y). \n",
    "\n",
    "Load the data and save it as a Pandas dataframe. (Note: there is no column header in the file as the first row. The separator between columns is tab.)\n",
    "\n",
    "And name the 4 columns as: x1, x2, x3, and y. "
   ]
  },
  {
   "cell_type": "code",
   "execution_count": 6,
   "metadata": {},
   "outputs": [
    {
     "data": {
      "text/html": [
       "<div>\n",
       "<style scoped>\n",
       "    .dataframe tbody tr th:only-of-type {\n",
       "        vertical-align: middle;\n",
       "    }\n",
       "\n",
       "    .dataframe tbody tr th {\n",
       "        vertical-align: top;\n",
       "    }\n",
       "\n",
       "    .dataframe thead th {\n",
       "        text-align: right;\n",
       "    }\n",
       "</style>\n",
       "<table border=\"1\" class=\"dataframe\">\n",
       "  <thead>\n",
       "    <tr style=\"text-align: right;\">\n",
       "      <th></th>\n",
       "      <th>x1</th>\n",
       "      <th>x2</th>\n",
       "      <th>x3</th>\n",
       "      <th>y</th>\n",
       "    </tr>\n",
       "  </thead>\n",
       "  <tbody>\n",
       "    <tr>\n",
       "      <th>0</th>\n",
       "      <td>3.632</td>\n",
       "      <td>1.941</td>\n",
       "      <td>3.509</td>\n",
       "      <td>9.510</td>\n",
       "    </tr>\n",
       "    <tr>\n",
       "      <th>1</th>\n",
       "      <td>1.427</td>\n",
       "      <td>2.057</td>\n",
       "      <td>-2.937</td>\n",
       "      <td>13.065</td>\n",
       "    </tr>\n",
       "    <tr>\n",
       "      <th>2</th>\n",
       "      <td>2.197</td>\n",
       "      <td>4.043</td>\n",
       "      <td>1.256</td>\n",
       "      <td>10.195</td>\n",
       "    </tr>\n",
       "    <tr>\n",
       "      <th>3</th>\n",
       "      <td>1.780</td>\n",
       "      <td>0.009</td>\n",
       "      <td>6.434</td>\n",
       "      <td>-3.493</td>\n",
       "    </tr>\n",
       "    <tr>\n",
       "      <th>4</th>\n",
       "      <td>2.115</td>\n",
       "      <td>-1.925</td>\n",
       "      <td>5.097</td>\n",
       "      <td>2.239</td>\n",
       "    </tr>\n",
       "  </tbody>\n",
       "</table>\n",
       "</div>"
      ],
      "text/plain": [
       "      x1     x2     x3       y\n",
       "0  3.632  1.941  3.509   9.510\n",
       "1  1.427  2.057 -2.937  13.065\n",
       "2  2.197  4.043  1.256  10.195\n",
       "3  1.780  0.009  6.434  -3.493\n",
       "4  2.115 -1.925  5.097   2.239"
      ]
     },
     "execution_count": 6,
     "metadata": {},
     "output_type": "execute_result"
    }
   ],
   "source": [
    "import pandas as pd\n",
    "df = pd.read_csv('data_exam.txt',sep='\\t')\n",
    "df.columns = ['x1','x2','x3','y']\n",
    "df.head()"
   ]
  },
  {
   "cell_type": "markdown",
   "metadata": {},
   "source": [
    "&#9989;&nbsp; **Question 6 (10 points):** Use the package statsmodels to build a multivariable regression model for the data: $$y=a + bx1 + cx2 + dx3$$ \n",
    "\n",
    "Note: you need to add the constant term before building the regression model."
   ]
  },
  {
   "cell_type": "code",
   "execution_count": 20,
   "metadata": {},
   "outputs": [],
   "source": [
    "import statsmodels.api as sm;\n",
    "df = sm.add_constant(df)\n",
    "y = df['y'] \n",
    "x = df.drop(columns=['y'])\n",
    "model = sm.OLS(y,x)\n",
    "result = model.fit()"
   ]
  },
  {
   "cell_type": "markdown",
   "metadata": {},
   "source": [
    "&#9989;&nbsp; **Question 7 (5 points):** Show the statistical summary table of the fitted regression model. "
   ]
  },
  {
   "cell_type": "code",
   "execution_count": 21,
   "metadata": {},
   "outputs": [
    {
     "data": {
      "text/html": [
       "<table class=\"simpletable\">\n",
       "<caption>OLS Regression Results</caption>\n",
       "<tr>\n",
       "  <th>Dep. Variable:</th>            <td>y</td>        <th>  R-squared:         </th> <td>   0.809</td>\n",
       "</tr>\n",
       "<tr>\n",
       "  <th>Model:</th>                   <td>OLS</td>       <th>  Adj. R-squared:    </th> <td>   0.803</td>\n",
       "</tr>\n",
       "<tr>\n",
       "  <th>Method:</th>             <td>Least Squares</td>  <th>  F-statistic:       </th> <td>   133.8</td>\n",
       "</tr>\n",
       "<tr>\n",
       "  <th>Date:</th>             <td>Wed, 04 May 2022</td> <th>  Prob (F-statistic):</th> <td>5.45e-34</td>\n",
       "</tr>\n",
       "<tr>\n",
       "  <th>Time:</th>                 <td>18:16:09</td>     <th>  Log-Likelihood:    </th> <td> -269.78</td>\n",
       "</tr>\n",
       "<tr>\n",
       "  <th>No. Observations:</th>      <td>    99</td>      <th>  AIC:               </th> <td>   547.6</td>\n",
       "</tr>\n",
       "<tr>\n",
       "  <th>Df Residuals:</th>          <td>    95</td>      <th>  BIC:               </th> <td>   557.9</td>\n",
       "</tr>\n",
       "<tr>\n",
       "  <th>Df Model:</th>              <td>     3</td>      <th>                     </th>     <td> </td>   \n",
       "</tr>\n",
       "<tr>\n",
       "  <th>Covariance Type:</th>      <td>nonrobust</td>    <th>                     </th>     <td> </td>   \n",
       "</tr>\n",
       "</table>\n",
       "<table class=\"simpletable\">\n",
       "<tr>\n",
       "    <td></td>       <th>coef</th>     <th>std err</th>      <th>t</th>      <th>P>|t|</th>  <th>[0.025</th>    <th>0.975]</th>  \n",
       "</tr>\n",
       "<tr>\n",
       "  <th>const</th> <td>    5.4090</td> <td>    0.470</td> <td>   11.501</td> <td> 0.000</td> <td>    4.475</td> <td>    6.343</td>\n",
       "</tr>\n",
       "<tr>\n",
       "  <th>x1</th>    <td>    2.7100</td> <td>    0.202</td> <td>   13.432</td> <td> 0.000</td> <td>    2.309</td> <td>    3.111</td>\n",
       "</tr>\n",
       "<tr>\n",
       "  <th>x2</th>    <td>   -0.0648</td> <td>    0.135</td> <td>   -0.479</td> <td> 0.633</td> <td>   -0.334</td> <td>    0.204</td>\n",
       "</tr>\n",
       "<tr>\n",
       "  <th>x3</th>    <td>   -1.5112</td> <td>    0.095</td> <td>  -15.972</td> <td> 0.000</td> <td>   -1.699</td> <td>   -1.323</td>\n",
       "</tr>\n",
       "</table>\n",
       "<table class=\"simpletable\">\n",
       "<tr>\n",
       "  <th>Omnibus:</th>       <td>11.578</td> <th>  Durbin-Watson:     </th> <td>   1.417</td>\n",
       "</tr>\n",
       "<tr>\n",
       "  <th>Prob(Omnibus):</th> <td> 0.003</td> <th>  Jarque-Bera (JB):  </th> <td>  17.906</td>\n",
       "</tr>\n",
       "<tr>\n",
       "  <th>Skew:</th>          <td> 0.502</td> <th>  Prob(JB):          </th> <td>0.000129</td>\n",
       "</tr>\n",
       "<tr>\n",
       "  <th>Kurtosis:</th>      <td> 4.825</td> <th>  Cond. No.          </th> <td>    5.70</td>\n",
       "</tr>\n",
       "</table><br/><br/>Notes:<br/>[1] Standard Errors assume that the covariance matrix of the errors is correctly specified."
      ],
      "text/plain": [
       "<class 'statsmodels.iolib.summary.Summary'>\n",
       "\"\"\"\n",
       "                            OLS Regression Results                            \n",
       "==============================================================================\n",
       "Dep. Variable:                      y   R-squared:                       0.809\n",
       "Model:                            OLS   Adj. R-squared:                  0.803\n",
       "Method:                 Least Squares   F-statistic:                     133.8\n",
       "Date:                Wed, 04 May 2022   Prob (F-statistic):           5.45e-34\n",
       "Time:                        18:16:09   Log-Likelihood:                -269.78\n",
       "No. Observations:                  99   AIC:                             547.6\n",
       "Df Residuals:                      95   BIC:                             557.9\n",
       "Df Model:                           3                                         \n",
       "Covariance Type:            nonrobust                                         \n",
       "==============================================================================\n",
       "                 coef    std err          t      P>|t|      [0.025      0.975]\n",
       "------------------------------------------------------------------------------\n",
       "const          5.4090      0.470     11.501      0.000       4.475       6.343\n",
       "x1             2.7100      0.202     13.432      0.000       2.309       3.111\n",
       "x2            -0.0648      0.135     -0.479      0.633      -0.334       0.204\n",
       "x3            -1.5112      0.095    -15.972      0.000      -1.699      -1.323\n",
       "==============================================================================\n",
       "Omnibus:                       11.578   Durbin-Watson:                   1.417\n",
       "Prob(Omnibus):                  0.003   Jarque-Bera (JB):               17.906\n",
       "Skew:                           0.502   Prob(JB):                     0.000129\n",
       "Kurtosis:                       4.825   Cond. No.                         5.70\n",
       "==============================================================================\n",
       "\n",
       "Notes:\n",
       "[1] Standard Errors assume that the covariance matrix of the errors is correctly specified.\n",
       "\"\"\""
      ]
     },
     "execution_count": 21,
     "metadata": {},
     "output_type": "execute_result"
    }
   ],
   "source": [
    "result.summary()"
   ]
  },
  {
   "cell_type": "markdown",
   "metadata": {},
   "source": [
    "&#9989;&nbsp; **Question 8 (5 points):** What is the value of adjusted R-squared? And which features have a p-value<0.05?"
   ]
  },
  {
   "cell_type": "markdown",
   "metadata": {},
   "source": [
    "**Adjusted R-Squared Value**: 0.803\n",
    "\n",
    "**P-value < 0.05**: x2"
   ]
  },
  {
   "cell_type": "markdown",
   "metadata": {},
   "source": [
    "&#9989;&nbsp; **Question 9 (5 points):** Make plots of the fitted values and the residuals, for the feature x1."
   ]
  },
  {
   "cell_type": "code",
   "execution_count": 29,
   "metadata": {},
   "outputs": [
    {
     "data": {
      "image/png": "[encoded data removed]",
      "text/plain": [
       "<Figure size 1080x576 with 4 Axes>"
      ]
     },
     "metadata": {
      "needs_background": "light"
     },
     "output_type": "display_data"
    }
   ],
   "source": [
    "import matplotlib.pyplot as plt\n",
    "fig = plt.figure(figsize=(15,8))\n",
    "sm.graphics.plot_regress_exog(result,'x1',fig=fig)\n",
    "plt.tight_layout()\n",
    "plt.show()"
   ]
  },
  {
   "cell_type": "markdown",
   "metadata": {},
   "source": [
    "---\n",
    "### &#128721; STOP\n",
    "**Pause to commit your changes to your Git repository!**\n",
    "\n",
    "Take a moment to save your notebook, commit the changes to your Git repository using the commit message \"**Committing Part 3**\", and push the changes to GitHub.\n",
    "\n",
    "---"
   ]
  },
  {
   "cell_type": "markdown",
   "metadata": {},
   "source": [
    "---\n",
    "## Part 4: Perform a support vector machine (SVM) classification on data (30 points)"
   ]
  },
  {
   "cell_type": "markdown",
   "metadata": {},
   "source": [
    "We are going to use the Iris dataset to do a practice of training SVM classifiers. The Iris data has been posted on D2L.\n",
    "\n",
    "Run the code below to load the 'iris.data' file into the notebook as a dataframe. There are 5 columns, which are named as \"sepal_l\", \"sepal_w\", \"petal_l\", \"petal_w\", \"class\". The 3 categories of species are replaced by integer class labels ('Iris-setosa'=1, \"Iris-versicolor\"=1, \"Iris-virginica\"=0)."
   ]
  },
  {
   "cell_type": "code",
   "execution_count": 30,
   "metadata": {},
   "outputs": [],
   "source": [
    "df = pd.read_csv(\"iris.data\", delim_whitespace=True, names=[\"sepal_l\", \"sepal_w\", \"petal_l\", \"petal_w\", \"class\"])\n",
    "\n",
    "df['class'].replace({'Iris-setosa':1, \"Iris-versicolor\":1, \"Iris-virginica\":0}, inplace=True)"
   ]
  },
  {
   "cell_type": "markdown",
   "metadata": {},
   "source": [
    "&#9989;&nbsp; **Question 10 (2 points):**  Create a 'feature' dataframe from the original dataframe, by dropping the last 'class' column (So the feature dataframe contains 4 columns for the features. The rows are data points.). \n",
    "\n",
    "And create a 'labels' dataframe (a single-column dataframe), based on the 'class' column.  "
   ]
  },
  {
   "cell_type": "code",
   "execution_count": 31,
   "metadata": {},
   "outputs": [],
   "source": [
    "features = df.drop('class', axis=1)\n",
    "labels = df['class']"
   ]
  },
  {
   "cell_type": "markdown",
   "metadata": {},
   "source": [
    "&#9989;&nbsp; **Question 11 (5 points):** Split the 'feature' and 'labels' into a training set and a testing set.  75% of data points assigned as training data and 25% of data points assigned as testing data.\n",
    "\n",
    "You are exptected to get training feature, testing feature, training lables and testing labels.\n",
    "\n",
    "Note: remember to import the package."
   ]
  },
  {
   "cell_type": "code",
   "execution_count": 32,
   "metadata": {},
   "outputs": [],
   "source": [
    "from sklearn.model_selection import train_test_split\n",
    "from sklearn.model_selection import GridSearchCV\n",
    "from sklearn.metrics import classification_report\n",
    "from sklearn.metrics import confusion_matrix, accuracy_score\n",
    "from sklearn.svm import SVC"
   ]
  },
  {
   "cell_type": "code",
   "execution_count": 33,
   "metadata": {},
   "outputs": [
    {
     "data": {
      "text/plain": [
       "((112, 4), (38, 4))"
      ]
     },
     "execution_count": 33,
     "metadata": {},
     "output_type": "execute_result"
    }
   ],
   "source": [
    "train_vectors, test_vectors, train_labels, test_labels = train_test_split(features, labels, test_size=0.25)\n",
    "train_vectors.shape, test_vectors.shape"
   ]
  },
  {
   "cell_type": "markdown",
   "metadata": {},
   "source": [
    "&#9989;&nbsp; **Question 12 (5 points):** Construct and fit a SVC model based on the training feature and training labels.\n",
    "\n",
    "Note: train the SVC model using 'linear' kernel, and set the parameter 'C' as 0.1\n",
    "\n",
    "Note: remember to import the package."
   ]
  },
  {
   "cell_type": "code",
   "execution_count": 35,
   "metadata": {},
   "outputs": [
    {
     "data": {
      "text/plain": [
       "SVC(C=0.1, kernel='linear')"
      ]
     },
     "execution_count": 35,
     "metadata": {},
     "output_type": "execute_result"
    }
   ],
   "source": [
    "svc = SVC(kernel='linear', C=0.1)\n",
    "svc.fit(train_vectors, train_labels)"
   ]
  },
  {
   "cell_type": "markdown",
   "metadata": {},
   "source": [
    "&#9989;&nbsp; **Question 13 (3 points):** Use the trained SVC model from the last step, predict the labels for testing dataset (testing features). "
   ]
  },
  {
   "cell_type": "code",
   "execution_count": 38,
   "metadata": {},
   "outputs": [
    {
     "data": {
      "text/plain": [
       "array([1, 1, 0, 1, 0, 1, 1, 0, 1, 1, 1, 1, 1, 1, 0, 1, 0, 1, 1, 1, 1, 1,\n",
       "       1, 0, 0, 1, 1, 1, 1, 1, 0, 1, 0, 1, 1, 1, 1, 0])"
      ]
     },
     "execution_count": 38,
     "metadata": {},
     "output_type": "execute_result"
    }
   ],
   "source": [
    "svc.predict(test_vectors)"
   ]
  },
  {
   "cell_type": "markdown",
   "metadata": {},
   "source": [
    "&#9989;&nbsp; **Question 14 (5 points):** Print out the classification report about the accuracy of predicted labels, compared to the labels of the testing dataset (testing labels). \n",
    "\n",
    "Note: remember to import the package."
   ]
  },
  {
   "cell_type": "code",
   "execution_count": 39,
   "metadata": {},
   "outputs": [
    {
     "name": "stdout",
     "output_type": "stream",
     "text": [
      "              precision    recall  f1-score   support\n",
      "\n",
      "           0       1.00      0.91      0.95        11\n",
      "           1       0.96      1.00      0.98        27\n",
      "\n",
      "    accuracy                           0.97        38\n",
      "   macro avg       0.98      0.95      0.97        38\n",
      "weighted avg       0.97      0.97      0.97        38\n",
      "\n",
      "[[10  1]\n",
      " [ 0 27]]\n"
     ]
    }
   ],
   "source": [
    "print(classification_report(test_labels, svc.predict(test_vectors)))\n",
    "print(confusion_matrix(test_labels, svc.predict(test_vectors)))"
   ]
  },
  {
   "cell_type": "markdown",
   "metadata": {},
   "source": [
    "&#9989;&nbsp; **Question 15 (5 points):** In the classification report, there are multiple metrics about the performance of your model. Explain what are the meanings of 'precision', 'recall' and 'f1-score'."
   ]
  },
  {
   "cell_type": "markdown",
   "metadata": {},
   "source": [
    "A classification report is used to measure how good the predictions are after training a model. There are various metrics in this report. These are:\n",
    "\n",
    "**Precision:** It is the percentage of how many predictions were correct. It is the ability of a model to label an instance true for a true positive and to label an instance false for a true negative. It is calculated by dividing the True Positives by the sum of True Positives and False Positives, i.e. $precision = TP/(TP + FP)$\n",
    "\n",
    "**Recall:** It is the percentage of the total positives that the model caught. In essence, It is the ability to classify all positive instances. It is calculated by diving the True Positives by the sum of True Positives and False Negatives i.e. $recall = TP/(TP + FN)$\n",
    "\n",
    "**F1-Score:** It is the percentage of correct positive predictions. It is the calculated by taking the harmonic mean of precision and recall, i.e $score = 2*(Recall * Precision) / (Recall + Precision)$"
   ]
  },
  {
   "cell_type": "markdown",
   "metadata": {},
   "source": [
    "&#9989;&nbsp; **Question 16 (5 points):** Explain what does the 'C' parameter control when you train SVC. "
   ]
  },
  {
   "cell_type": "markdown",
   "metadata": {},
   "source": [
    "The 'C' parameter in SVC is the regularization paramater. It tells the SVM optimization how much you want to avoid misclassifying each training example. It controls the trade off between the achieving a low training error and a low testing error i.e. the ability to generalize your classifier to unseen data. In essence it is used to control the outliers. A lower C implies that we are allowing more outliers while a larger C implies we are ignoring some outliers."
   ]
  },
  {
   "cell_type": "markdown",
   "metadata": {},
   "source": [
    "---\n",
    "### &#128721; STOP\n",
    "**Pause to commit your changes to your Git repository!**\n",
    "\n",
    "Take a moment to save your notebook, commit the changes to your Git repository using the commit message \"**Committing Part 4**\", and push the changes to GitHub.\n",
    "\n",
    "---"
   ]
  },
  {
   "cell_type": "markdown",
   "metadata": {},
   "source": [
    "## You're done! Congrats on finishing your CMSE 202 Final!\n",
    "\n",
    "Make sure all of your changes to your repository are committed and pushed to GitHub. Also upload a copy of this notebook to the dropbox on D2L in case something went wrong with your repository or if you couldn't get the repository to work."
   ]
  }
 ],
 "metadata": {
  "kernelspec": {
   "display_name": "Python 3",
   "language": "python",
   "name": "python3"
  },
  "language_info": {
   "codemirror_mode": {
    "name": "ipython",
    "version": 3
   },
   "file_extension": ".py",
   "mimetype": "text/x-python",
   "name": "python",
   "nbconvert_exporter": "python",
   "pygments_lexer": "ipython3",
   "version": "3.8.8"
  }
 },
 "nbformat": 4,
 "nbformat_minor": 4
}
