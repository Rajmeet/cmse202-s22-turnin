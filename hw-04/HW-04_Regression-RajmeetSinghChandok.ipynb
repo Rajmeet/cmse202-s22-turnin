{
 "cells": [
  {
   "cell_type": "markdown",
   "metadata": {},
   "source": [
    "# Homework Assignment #4 (Individual)\n",
    "## Regression models"
   ]
  },
  {
   "cell_type": "markdown",
   "metadata": {},
   "source": [
    "### <p style=\"text-align: right;\"> &#9989; Rajmeet Singh Chandok</p>\n",
    "### <p style=\"text-align: right;\"> &#9989; rajmeet</p>"
   ]
  },
  {
   "cell_type": "markdown",
   "metadata": {},
   "source": [
    "### Goal for this homework assignment\n",
    "By now, you have learned a bit about regression models. In this assignment, you will practice:\n",
    "\n",
    "* Performing linear regression\n",
    "* Performing multiple regression\n",
    "\n",
    "**This assignment is due roughly two weeks from now at 11:59 pm on Friday, March 25.** It should be uploaded into the \"Homework Assignments\" submission folder for Homework #4.  Submission instructions can be found at the end of the notebook. **There are 104 standard points possible in this assignment with 5 additional bonus points possible. The distribution of points can be found in the section headers**.\n"
   ]
  },
  {
   "cell_type": "markdown",
   "metadata": {},
   "source": [
    "---\n",
    "## Part 1: Git (12 points)\n",
    "\n",
    "For this assignment, you're going to add it to the `cmse202-s22-turnin` repository you created in class so that you can track your progress on the assignment and preserve the final version that you turn in. In order to do this you need to\n",
    "\n",
    "**&#9989; Question 1.1 (1 point)**: Navigate to your `cmse202-s22-turnin` **local** repository and create a new directory called `hw-04` and copy this notebook in that new directory.\n",
    "\n",
    "``` bash\n",
    "mkdir hw-04\n",
    "\n",
    "```\n"
   ]
  },
  {
   "cell_type": "markdown",
   "metadata": {},
   "source": [
    "&#9989; **Question 1.2 (1 point)**: Before you move on, put the command that your instructor should run to pull changes from  your repository in the markdown cell below.\n",
    "\n",
    "``` bash\n",
    "if already exists:\n",
    "git pull\n",
    "else:\n",
    "git clone https://github.com/Rajmeet/cmse202-s22-turnin\n",
    "```"
   ]
  },
  {
   "cell_type": "markdown",
   "metadata": {},
   "source": [
    "&#9989; **Question 1.3 (2 points)**: Before you move on, create a new branch called `hw04_branch` and move into it. In the cell below put the command(s) to create a new branch and to checkout the new branch. (_Note_: your TA will be able to see if you have created the branch and its history)."
   ]
  },
  {
   "cell_type": "markdown",
   "metadata": {},
   "source": [
    "``` bash\n",
    "git checkout -b hw04_branch\n",
    "\n",
    "```"
   ]
  },
  {
   "cell_type": "markdown",
   "metadata": {},
   "source": [
    "&#9989; **Question 1.4 (3 points)** Check the status of your local `git`.\n",
    "\n",
    "``` bash \n",
    "git status\n",
    "\n",
    "```\n",
    "Copy and paste below the output of the command.\n",
    "\n",
    "``` bash\n",
    "On branch main\n",
    "Your branch is up to date with 'origin/main'.\n",
    "\n",
    "Untracked files:\n",
    "  (use \"git add <file>...\" to include in what will be committed)\n",
    "        hw-04/\n",
    "\n",
    "nothing added to commit but untracked files present (use \"git add\" to track)\n",
    "```\n",
    "\n",
    "What is the name of the branch you are in ? \n",
    "\n",
    "``` bash\n",
    "hw04_branch\n",
    "```\n",
    "\n",
    "**Important:** If you are still in the `main` branch you must switch to the new branch. "
   ]
  },
  {
   "cell_type": "markdown",
   "metadata": {},
   "source": [
    "&#9989; **Question 1.5 (3 points):**\n",
    "Add your name and GitHub username to the top of the notebook, then add and commit **ONLY** the notebook.\n",
    "\n",
    "``` bash\n",
    "git commit -m \"HW04 Added\"\n",
    "```\n",
    "\n",
    "What is the commit message you used ?\n",
    "\n",
    "``` bash\n",
    "HW04 Added\n",
    "```"
   ]
  },
  {
   "cell_type": "markdown",
   "metadata": {},
   "source": [
    "&#9989; **Question 1.6 (1 point):** Before moving on. Check that the notebook you are working on is the correct one. Run the following cell. **Are you in the new folder you just created?** If not close this notebook and open the one in the `hw-04` folder\n"
   ]
  },
  {
   "cell_type": "code",
   "execution_count": null,
   "metadata": {},
   "outputs": [],
   "source": [
    "!pwd"
   ]
  },
  {
   "cell_type": "markdown",
   "metadata": {},
   "source": [
    "&#9989; **Question 1.7 (1 point):** Finally push the updated notebook to GitHub.\n",
    "\n",
    "``` bash\n",
    "git push --set-upstream origin hw04_branch\n",
    "```\n"
   ]
  },
  {
   "cell_type": "markdown",
   "metadata": {},
   "source": [
    "**Important**: Double check you've added your Professor and your TA as collaborators to your \"turnin\" repository (you should have done this in the previous homework assignment).\n",
    "\n",
    "**Also important**: Make sure that the version of this notebook that you are working on is the same one that you just added to your repository! If you are working on a different copy of the notebook, **none of your changes will be tracked**!\n",
    "\n",
    "If everything went as intended, the file should now show up on your GitHub account in the \"`cmse202-s22-turnin`\" repository inside the `hw-04` directory that you just created within the new branch `hw04-branch`.\n",
    "\n",
    "Periodically, **you'll be asked to commit your changes to the repository and push them to the remote GitHub location**. Of course, you can always commit your changes more often than that, if you wish.  It can be good to get into a habit of committing your changes any time you make a significant modification, or when you stop working on the project for a bit.\n"
   ]
  },
  {
   "cell_type": "markdown",
   "metadata": {},
   "source": [
    "---\n",
    "## Part 2: Linear Regression (56 points)\n",
    "\n",
    "<img src=\"https://cdn.mos.cms.futurecdn.net/E3WFeLCEMJZvB9AFzv84TS.jpg\" width=600px style=\"margin-left: 20px\" alt=\"Image credit: https://blogs.acu.edu/\">\n",
    "\n",
    "\n",
    "\n",
    "### Part 2.1 Exploratory Data Analysis (33 points)\n",
    "In this part of the homework, we will try to predict the price of diamonds.\n",
    "\n",
    "&#9989;  **Question 2.1.1 (4 points)**: \n",
    "\n",
    "1. **Do This:** Download the diamonds dataset and write the command you used in the next cell\n",
    "\n",
    "`https://raw.githubusercontent.com/msu-cmse-courses/cmse202-S22-data/main/data/diamonds.csv`\n",
    "    \n",
    "2. **Do This:** Load the data in this file into a `Pandas` dataframe and use the first column of the dataset as the index\n",
    "3. **Do This:** Display the first *eight* rows of the dataframe. "
   ]
  },
  {
   "cell_type": "code",
   "execution_count": null,
   "metadata": {},
   "outputs": [],
   "source": [
    "!curl https://raw.githubusercontent.com/msu-cmse-courses/cmse202-S22-data/main/data/diamonds.csv -O"
   ]
  },
  {
   "cell_type": "code",
   "execution_count": 2,
   "metadata": {},
   "outputs": [
    {
     "name": "stdout",
     "output_type": "stream",
     "text": [
      "Using matplotlib backend: agg\n",
      "Populating the interactive namespace from numpy and matplotlib\n"
     ]
    }
   ],
   "source": [
    "# Run this cell before moving on\n",
    "%pylab\n",
    "%matplotlib inline\n",
    "import pandas as pd\n",
    "import seaborn as sns\n",
    "\n",
    "sns.set_context(\"talk\")"
   ]
  },
  {
   "cell_type": "code",
   "execution_count": null,
   "metadata": {},
   "outputs": [],
   "source": [
    "df = pd.read_csv(\"diamonds.csv\")\n",
    "df.head(8)"
   ]
  },
  {
   "cell_type": "code",
   "execution_count": null,
   "metadata": {},
   "outputs": [],
   "source": [
    "df.dtypes, df.shape"
   ]
  },
  {
   "cell_type": "markdown",
   "metadata": {},
   "source": [
    "&#9989;  **Question 2.1.2 (3 points)**: Answer the following questions in the next markdown cell\n",
    "\n",
    "1. How many columns are there?\n",
    "\n",
    "2. What `type` are the entries in this dataset ? For example, are they `int`, `float` ? You may need to use one of `pandas.DataFrame`'s methods to find the answer to this.\n",
    "\n",
    "3. How many rows are in the dataset ? "
   ]
  },
  {
   "cell_type": "markdown",
   "metadata": {},
   "source": [
    "<font size=+3>&#9998;</font> \n",
    "1. There are 11 columns\n",
    "2. Most of them are float except the price that's int\n",
    "3. There are 53940 rows."
   ]
  },
  {
   "cell_type": "markdown",
   "metadata": {},
   "source": [
    "&#9989;  **Question 2.1.3 (1 points)**: Print out a quick statistical summary"
   ]
  },
  {
   "cell_type": "code",
   "execution_count": null,
   "metadata": {},
   "outputs": [],
   "source": [
    "df.describe()"
   ]
  },
  {
   "cell_type": "code",
   "execution_count": null,
   "metadata": {},
   "outputs": [],
   "source": [
    "df.loc[df.price.idxmax()]"
   ]
  },
  {
   "cell_type": "markdown",
   "metadata": {},
   "source": [
    "&#9989;  **Question 2.1.4 (4 points)**: Answer the following questions in the next markdown cell.\n",
    "\n",
    "1. What is the highest price for a diamond ? \n",
    "\n",
    "2. What `cut`, `color`, `clarity` and `carat` correspond to the most expensive diamond? _Hint:_ You might have to use some code for this.\n",
    "\n",
    "3. Does the carat of the most expensive diamond correspond to the highest value in the carat column? Does this surprise you ?\n",
    "\n",
    "4. Why are there missing columns in the statistical summary?"
   ]
  },
  {
   "cell_type": "markdown",
   "metadata": {},
   "source": [
    "<font size=+3>&#9998;</font>\n",
    "1. 18823.\n",
    "2. For the most expensive diamond the cut is Premium, the clarity is VS2 and the carat is 2.29.\n",
    "3. Yes as I thought the the higher the carat value the higher would be the price.\n",
    "4. There are missing columns because they of are type object and not numeric."
   ]
  },
  {
   "cell_type": "markdown",
   "metadata": {},
   "source": [
    "&#9989;  **Question 2.1.5 (3 points)**: As you can see there are several values for `cut`, `clarity`, `color`. You could google what does values are. However, we want to test your coding skills, so in the next cell write some code and *print* the unique values for the `cut`, `clarity`, `color` columns"
   ]
  },
  {
   "cell_type": "code",
   "execution_count": null,
   "metadata": {},
   "outputs": [],
   "source": [
    "print(df['cut'].unique())\n",
    "print(df['clarity'].unique())\n",
    "print(df['color'].unique())"
   ]
  },
  {
   "cell_type": "markdown",
   "metadata": {},
   "source": [
    "Our goal is to predict the price of a diamond given its characteristics. However, up to now we have only investigated the dataset and still haven't found relationships between the columns. Let's do that now.\n",
    "\n",
    "&#9989;  **Question 2.1.6 (3 points)**: First let's drop the `x`, `y`, `z` columns. They are not too important as they are used to calculate the column `depth` and `table`. Therefore, the latter two are more useful. \n",
    "\n",
    "Then, using `seaborn` make a pairplot of the dataset without the `x`, `y`, `z` columns. Use the `hue` option to differentiate between different types of diamonds."
   ]
  },
  {
   "cell_type": "code",
   "execution_count": null,
   "metadata": {
    "scrolled": true
   },
   "outputs": [],
   "source": [
    "df = df.drop(['x','y','z'], axis=1)"
   ]
  },
  {
   "cell_type": "code",
   "execution_count": null,
   "metadata": {},
   "outputs": [],
   "source": [
    "sns.pairplot(df,hue='color')"
   ]
  },
  {
   "cell_type": "markdown",
   "metadata": {},
   "source": [
    "&#9989;  **Question 2.1.7 (9 points)**: Answer the following questions **without the use of any code!!!**.\n",
    "\n",
    "1. What columns did you use in `hue` ? \n",
    "\n",
    "2. Why did you choose this value ?\n",
    "\n",
    "3. Is there any pattern or specific information that you can extract from this plot? \n",
    "\n",
    "4. For each of the following pairs estimate a correlation value. \n",
    "\n",
    "    Choices are [greater than 0.5, less than -0.5, approximately 0] \n",
    "    \n",
    "        a. table vs price  \n",
    "        b. depth vs price\n",
    "        c. carat vs price   \n",
    "        d. depth vs table\n",
    "        \n",
    "5. If you were to use linear regression what columns would you choose for your X, and Y ?"
   ]
  },
  {
   "cell_type": "markdown",
   "metadata": {},
   "source": [
    "<font size=+3>&#9998;</font>\n",
    "1. I used the color column for hue.\n",
    "2. I choose as every dimaond can have varing dimensions and there would be a lot to consider when classifying diamonds. Colors are easily distinguished.\n",
    "3. It's really hard to find a specific information from this plot because of the data being very scattered.\n",
    "4. \n",
    "5. "
   ]
  },
  {
   "cell_type": "markdown",
   "metadata": {},
   "source": [
    "&#9989; **Question 2.1.8 (6 points)**: From experience we know that the price of a diamond increases with its carats, but the dataset gives us more information and we would like to know what other factors influence the price. The pairplot above does not tell us much about the correlation between non-numeric columns so we need to find them ourselves.\n",
    "\n",
    "The goal of this question is to find the characteristic with the highest correlation between price and carat. \n",
    "In other words, \n",
    "\n",
    "1. What value of `cut` has the highest correlation between `price` and `carat` ?\n",
    "\n",
    "2. What value of `color` has the highest correlation between `price` and `carat` ?\n",
    "\n",
    "3. What value of `clarity` has the highest correlation between `price` and `carat` ?\n",
    "\n",
    "4. Which value of the above ones is the highest? \n",
    "\n",
    "**HINT:** This question requires a bit of ingenuity. Printing all the correlation matrices and looking the highest value is allowed, BUT you will get only half the points. You could definitely use this method to get insights, but can you write code that does not require me to read all those matrices? After all this class requires you to come up with ways to find the answer."
   ]
  },
  {
   "cell_type": "code",
   "execution_count": null,
   "metadata": {},
   "outputs": [],
   "source": [
    "df.groupby('cut')[['price','carat']].corr()"
   ]
  },
  {
   "cell_type": "code",
   "execution_count": null,
   "metadata": {
    "scrolled": false
   },
   "outputs": [],
   "source": [
    "df.groupby('color')[['price','carat']].corr()"
   ]
  },
  {
   "cell_type": "code",
   "execution_count": null,
   "metadata": {
    "scrolled": false
   },
   "outputs": [],
   "source": [
    "df.groupby('clarity')[['price','carat']].corr()"
   ]
  },
  {
   "cell_type": "markdown",
   "metadata": {},
   "source": [
    "<font size=+3>&#9998;</font> \n",
    "1. Ideal cut has the highest correlation between price and carat.\n",
    "2. J color has the highest correlation between price and carat\n",
    "3. SI1 clarity has the highest correlation between price and carat."
   ]
  },
  {
   "cell_type": "markdown",
   "metadata": {},
   "source": [
    "### Part 2.2 Linear Regression with `statsmodels` (23 points).\n",
    "\n",
    "The goal of part 2.1 was to find the independent and dependent variables for our linear regression. Now that we have them let's explore some linear regression.\n",
    "\n",
    "\n",
    "&#9989;  **Question 2.2.1 (3 points)**: Based on your answer from the above question \n",
    "\n",
    "1. use a mask to select the data with the highest correlation value overall\n",
    "2. make a scatter plot with `price` on the Y axis and `carat` on the X axis\n",
    "3. Don't forget to label the axis!!!\n"
   ]
  },
  {
   "cell_type": "code",
   "execution_count": null,
   "metadata": {},
   "outputs": [],
   "source": [
    "SI1_mask = df['clarity'] == 'SI1'\n",
    "SI1_cut = df[SI1_mask]\n",
    "np.corrcoef(SI1_cut['price'], SI1_cut['carat'])"
   ]
  },
  {
   "cell_type": "code",
   "execution_count": null,
   "metadata": {},
   "outputs": [],
   "source": [
    "plt.scatter(SI1_cut['carat'], SI1_cut['price'])\n",
    "plt.xlabel(\"Carat Size\")\n",
    "plt.ylabel(\"Price\")"
   ]
  },
  {
   "cell_type": "code",
   "execution_count": null,
   "metadata": {},
   "outputs": [],
   "source": [
    "plt.scatter(SI1_cut['price'], SI1_cut['carat'])\n",
    "plt.yscale('log')\n",
    "plt.xlabel('carat')\n",
    "plt.ylabel('price')"
   ]
  },
  {
   "cell_type": "code",
   "execution_count": null,
   "metadata": {},
   "outputs": [],
   "source": [
    "plt.scatter(SI1_cut['price']**0.5, SI1_cut['carat'])\n",
    "plt.xlabel('carat')\n",
    "plt.ylabel('price')"
   ]
  },
  {
   "cell_type": "markdown",
   "metadata": {},
   "source": [
    "&#9989;  **Question 2.2.2 (3 points)**: Answer the following question\n",
    "\n",
    "1. Does the plot look linear?\n",
    "\n",
    "2. Does the plot look linear if you plot the `log` of `price` ? \n",
    "\n",
    "3. Does the plot look linear if you plot the `sqrt` of `price` ?"
   ]
  },
  {
   "cell_type": "markdown",
   "metadata": {},
   "source": [
    "<font size=+3>&#9998;</font> \n",
    "1. Yes this plot looks linear.\n",
    "2. No it does not look linear if we take the log price.\n",
    "3. Yes it looks linear."
   ]
  },
  {
   "cell_type": "markdown",
   "metadata": {},
   "source": [
    "&#9989;  **Question 2.2.2 (6 points)**: Based on your previous answer. \n",
    "\n",
    "1. Use `statsmodels` to perform linear regression on the most linear plot.\n",
    "\n",
    "2. Print a summary of your results\n",
    "\n",
    "***Hint:*** Look over your PCAs and ICAs "
   ]
  },
  {
   "cell_type": "code",
   "execution_count": null,
   "metadata": {
    "scrolled": false
   },
   "outputs": [],
   "source": [
    "import statsmodels.api as sm\n",
    "X = SI1_cut['carat']\n",
    "y = SI1_cut['price']**0.5\n",
    "X = sm.add_constant(X)\n",
    "model = sm.OLS(y,X)\n",
    "result = model.fit()\n",
    "print(result.params)\n",
    "result.summary()"
   ]
  },
  {
   "cell_type": "markdown",
   "metadata": {},
   "source": [
    "&#9989;  **Question 2.2.3 (3 points)**: Based on your previous answer. \n",
    "\n",
    "1. What are the values of the slope and intercept?\n",
    "\n",
    "2. What is the value of your Adj. R-squared ?\n",
    "\n",
    "3. Looking at the summary, do you trust that a linear fit is a good choice ?"
   ]
  },
  {
   "cell_type": "markdown",
   "metadata": {},
   "source": [
    "<font size=+3>&#9998;</font> \n",
    "1. The slope is about 60 and the intercept is 6.11\n",
    "2. The value of Adj. R-squared is 0.960.\n",
    "3. Yes as looking at the data we see that the plot is linear and using a linear fit would be a great choice."
   ]
  },
  {
   "cell_type": "markdown",
   "metadata": {},
   "source": [
    "&#9989;  **Question 2.2.4 (3 points)**: Use [`sm.graphics.plot_regress_exog`](https://www.statsmodels.org/dev/generated/statsmodels.graphics.regressionplots.plot_regress_exog.html) to plot your regression results. Make your figure 15 x 8.\n"
   ]
  },
  {
   "cell_type": "code",
   "execution_count": null,
   "metadata": {},
   "outputs": [],
   "source": [
    "fig = plt.figure(figsize=(15,8))\n",
    "sm.graphics.plot_regress_exog(result,'carat',fig=fig)\n",
    "plt.tight_layout()\n",
    "plt.show()"
   ]
  },
  {
   "cell_type": "markdown",
   "metadata": {},
   "source": [
    "&#9989;  **Question 2.2.5 (3 points)**: Do you think that a linear regression is a valid model ? Justify your answer.\n",
    "\n",
    "**HINT:** Look at what we have done in the ICA.\n",
    "\n"
   ]
  },
  {
   "cell_type": "markdown",
   "metadata": {},
   "source": [
    "<font size=+3>&#9998;</font> Yes it is a valid model. We can say that as by looking the fitted linear line works well for the data."
   ]
  },
  {
   "cell_type": "markdown",
   "metadata": {},
   "source": [
    "---\n",
    "### &#128721; STOP\n",
    "**Pause to commit your changes to your Git repository! (2 points)**\n",
    "\n",
    "Take a moment to save your notebook, commit the changes to your local `git` repository using the commit message \"Part 2 complete\", and push the changes to GitHub.\n",
    "\n",
    "---"
   ]
  },
  {
   "cell_type": "markdown",
   "metadata": {},
   "source": [
    "## Part 3: Mulitple Regression (33 points + 5 BONUS points)"
   ]
  },
  {
   "cell_type": "markdown",
   "metadata": {},
   "source": [
    "In this part of the homework, you will work with data from the California Housing Prices dataset. Our goal is to use ordinary least squares to design a linear model to fit the median house value in a California census district given eight features. We will try both a linear model using all the provided features, as well as a reduced linear model which only uses a subset of the features. "
   ]
  },
  {
   "cell_type": "markdown",
   "metadata": {},
   "source": [
    "&#9989;  **Question 3.1 (1 points)**: **Do This:** Download the file `housing.csv` from the link below, and save it into the same directory as your notebook. **Then, in the cell below, put the command line command(s) you used to download the file.** If you did not use a command line tool to download the file, write down the command(s) that would have downloaded the file.\n",
    "\n",
    "`https://raw.githubusercontent.com/msu-cmse-courses/cmse202-S22-data/main/data/housing.csv`"
   ]
  },
  {
   "cell_type": "markdown",
   "metadata": {},
   "source": [
    "``` bash\n",
    "curl https://raw.githubusercontent.com/msu-cmse-courses/cmse202-S22-data/main/data/housing.csv -O\n",
    "```"
   ]
  },
  {
   "cell_type": "markdown",
   "metadata": {},
   "source": [
    "&#9989;  **Question 3.2 (2 points)**: **Do This:** To get started, read in the `housing.csv` dataset into a Pandas DataFrame, and then display some of its rows."
   ]
  },
  {
   "cell_type": "code",
   "execution_count": 15,
   "metadata": {},
   "outputs": [
    {
     "data": {
      "text/html": [
       "<div>\n",
       "<style scoped>\n",
       "    .dataframe tbody tr th:only-of-type {\n",
       "        vertical-align: middle;\n",
       "    }\n",
       "\n",
       "    .dataframe tbody tr th {\n",
       "        vertical-align: top;\n",
       "    }\n",
       "\n",
       "    .dataframe thead th {\n",
       "        text-align: right;\n",
       "    }\n",
       "</style>\n",
       "<table border=\"1\" class=\"dataframe\">\n",
       "  <thead>\n",
       "    <tr style=\"text-align: right;\">\n",
       "      <th></th>\n",
       "      <th>longitude</th>\n",
       "      <th>latitude</th>\n",
       "      <th>housing_median_age</th>\n",
       "      <th>avg_rooms</th>\n",
       "      <th>avg_bedrooms</th>\n",
       "      <th>population</th>\n",
       "      <th>households</th>\n",
       "      <th>median_income</th>\n",
       "      <th>median_house_value</th>\n",
       "      <th>ocean_proximity</th>\n",
       "    </tr>\n",
       "  </thead>\n",
       "  <tbody>\n",
       "    <tr>\n",
       "      <th>0</th>\n",
       "      <td>-122.23</td>\n",
       "      <td>37.88</td>\n",
       "      <td>41</td>\n",
       "      <td>6.984127</td>\n",
       "      <td>1.023810</td>\n",
       "      <td>322</td>\n",
       "      <td>126</td>\n",
       "      <td>8.3252</td>\n",
       "      <td>452600</td>\n",
       "      <td>NEAR BAY</td>\n",
       "    </tr>\n",
       "    <tr>\n",
       "      <th>1</th>\n",
       "      <td>-122.22</td>\n",
       "      <td>37.86</td>\n",
       "      <td>21</td>\n",
       "      <td>6.238137</td>\n",
       "      <td>0.971880</td>\n",
       "      <td>2401</td>\n",
       "      <td>1138</td>\n",
       "      <td>8.3014</td>\n",
       "      <td>358500</td>\n",
       "      <td>NEAR BAY</td>\n",
       "    </tr>\n",
       "    <tr>\n",
       "      <th>2</th>\n",
       "      <td>-122.24</td>\n",
       "      <td>37.85</td>\n",
       "      <td>52</td>\n",
       "      <td>8.288136</td>\n",
       "      <td>1.073446</td>\n",
       "      <td>496</td>\n",
       "      <td>177</td>\n",
       "      <td>7.2574</td>\n",
       "      <td>352100</td>\n",
       "      <td>NEAR BAY</td>\n",
       "    </tr>\n",
       "    <tr>\n",
       "      <th>3</th>\n",
       "      <td>-122.25</td>\n",
       "      <td>37.85</td>\n",
       "      <td>52</td>\n",
       "      <td>5.817352</td>\n",
       "      <td>1.073059</td>\n",
       "      <td>558</td>\n",
       "      <td>219</td>\n",
       "      <td>5.6431</td>\n",
       "      <td>341300</td>\n",
       "      <td>NEAR BAY</td>\n",
       "    </tr>\n",
       "    <tr>\n",
       "      <th>4</th>\n",
       "      <td>-122.25</td>\n",
       "      <td>37.85</td>\n",
       "      <td>52</td>\n",
       "      <td>6.281853</td>\n",
       "      <td>1.081081</td>\n",
       "      <td>565</td>\n",
       "      <td>259</td>\n",
       "      <td>3.8462</td>\n",
       "      <td>342200</td>\n",
       "      <td>NEAR BAY</td>\n",
       "    </tr>\n",
       "    <tr>\n",
       "      <th>5</th>\n",
       "      <td>-122.25</td>\n",
       "      <td>37.85</td>\n",
       "      <td>52</td>\n",
       "      <td>4.761658</td>\n",
       "      <td>1.103627</td>\n",
       "      <td>413</td>\n",
       "      <td>193</td>\n",
       "      <td>4.0368</td>\n",
       "      <td>269700</td>\n",
       "      <td>NEAR BAY</td>\n",
       "    </tr>\n",
       "    <tr>\n",
       "      <th>6</th>\n",
       "      <td>-122.25</td>\n",
       "      <td>37.84</td>\n",
       "      <td>52</td>\n",
       "      <td>4.931907</td>\n",
       "      <td>0.951362</td>\n",
       "      <td>1094</td>\n",
       "      <td>514</td>\n",
       "      <td>3.6591</td>\n",
       "      <td>299200</td>\n",
       "      <td>NEAR BAY</td>\n",
       "    </tr>\n",
       "    <tr>\n",
       "      <th>7</th>\n",
       "      <td>-122.25</td>\n",
       "      <td>37.84</td>\n",
       "      <td>52</td>\n",
       "      <td>4.797527</td>\n",
       "      <td>1.061824</td>\n",
       "      <td>1157</td>\n",
       "      <td>647</td>\n",
       "      <td>3.1200</td>\n",
       "      <td>241400</td>\n",
       "      <td>NEAR BAY</td>\n",
       "    </tr>\n",
       "    <tr>\n",
       "      <th>8</th>\n",
       "      <td>-122.26</td>\n",
       "      <td>37.84</td>\n",
       "      <td>42</td>\n",
       "      <td>4.294118</td>\n",
       "      <td>1.117647</td>\n",
       "      <td>1206</td>\n",
       "      <td>595</td>\n",
       "      <td>2.0804</td>\n",
       "      <td>226700</td>\n",
       "      <td>NEAR BAY</td>\n",
       "    </tr>\n",
       "    <tr>\n",
       "      <th>9</th>\n",
       "      <td>-122.25</td>\n",
       "      <td>37.84</td>\n",
       "      <td>52</td>\n",
       "      <td>4.970588</td>\n",
       "      <td>0.990196</td>\n",
       "      <td>1551</td>\n",
       "      <td>714</td>\n",
       "      <td>3.6912</td>\n",
       "      <td>261100</td>\n",
       "      <td>NEAR BAY</td>\n",
       "    </tr>\n",
       "  </tbody>\n",
       "</table>\n",
       "</div>"
      ],
      "text/plain": [
       "   longitude  latitude  housing_median_age  avg_rooms  avg_bedrooms  \\\n",
       "0    -122.23     37.88                  41   6.984127      1.023810   \n",
       "1    -122.22     37.86                  21   6.238137      0.971880   \n",
       "2    -122.24     37.85                  52   8.288136      1.073446   \n",
       "3    -122.25     37.85                  52   5.817352      1.073059   \n",
       "4    -122.25     37.85                  52   6.281853      1.081081   \n",
       "5    -122.25     37.85                  52   4.761658      1.103627   \n",
       "6    -122.25     37.84                  52   4.931907      0.951362   \n",
       "7    -122.25     37.84                  52   4.797527      1.061824   \n",
       "8    -122.26     37.84                  42   4.294118      1.117647   \n",
       "9    -122.25     37.84                  52   4.970588      0.990196   \n",
       "\n",
       "   population  households  median_income  median_house_value ocean_proximity  \n",
       "0         322         126         8.3252              452600        NEAR BAY  \n",
       "1        2401        1138         8.3014              358500        NEAR BAY  \n",
       "2         496         177         7.2574              352100        NEAR BAY  \n",
       "3         558         219         5.6431              341300        NEAR BAY  \n",
       "4         565         259         3.8462              342200        NEAR BAY  \n",
       "5         413         193         4.0368              269700        NEAR BAY  \n",
       "6        1094         514         3.6591              299200        NEAR BAY  \n",
       "7        1157         647         3.1200              241400        NEAR BAY  \n",
       "8        1206         595         2.0804              226700        NEAR BAY  \n",
       "9        1551         714         3.6912              261100        NEAR BAY  "
      ]
     },
     "execution_count": 15,
     "metadata": {},
     "output_type": "execute_result"
    }
   ],
   "source": [
    "import statsmodels.api as sm\n",
    "housing = pd.read_csv('housing.csv')\n",
    "housing.head(10)"
   ]
  },
  {
   "cell_type": "markdown",
   "metadata": {},
   "source": [
    "&#9989;  **Question 3.3 (2 points)**: You should notice that the DataFrame has a non-numerical feature called \"ocean_proximity\". There are also a few rows with `NaN` values, although you may not see them in the few rows that were displayed. **Do This:** **Drop the \"ocean_proximity\" column from the dataframe, and drop all the rows with `NaN` values.** Note that we will not use the \"ocean_proximity\" column or any of the rows with `NaN` values in this assignment."
   ]
  },
  {
   "cell_type": "code",
   "execution_count": 16,
   "metadata": {},
   "outputs": [
    {
     "data": {
      "text/html": [
       "<div>\n",
       "<style scoped>\n",
       "    .dataframe tbody tr th:only-of-type {\n",
       "        vertical-align: middle;\n",
       "    }\n",
       "\n",
       "    .dataframe tbody tr th {\n",
       "        vertical-align: top;\n",
       "    }\n",
       "\n",
       "    .dataframe thead th {\n",
       "        text-align: right;\n",
       "    }\n",
       "</style>\n",
       "<table border=\"1\" class=\"dataframe\">\n",
       "  <thead>\n",
       "    <tr style=\"text-align: right;\">\n",
       "      <th></th>\n",
       "      <th>longitude</th>\n",
       "      <th>latitude</th>\n",
       "      <th>housing_median_age</th>\n",
       "      <th>avg_rooms</th>\n",
       "      <th>avg_bedrooms</th>\n",
       "      <th>population</th>\n",
       "      <th>households</th>\n",
       "      <th>median_income</th>\n",
       "      <th>median_house_value</th>\n",
       "    </tr>\n",
       "  </thead>\n",
       "  <tbody>\n",
       "    <tr>\n",
       "      <th>0</th>\n",
       "      <td>-122.23</td>\n",
       "      <td>37.88</td>\n",
       "      <td>41</td>\n",
       "      <td>6.984127</td>\n",
       "      <td>1.023810</td>\n",
       "      <td>322</td>\n",
       "      <td>126</td>\n",
       "      <td>8.3252</td>\n",
       "      <td>452600</td>\n",
       "    </tr>\n",
       "    <tr>\n",
       "      <th>1</th>\n",
       "      <td>-122.22</td>\n",
       "      <td>37.86</td>\n",
       "      <td>21</td>\n",
       "      <td>6.238137</td>\n",
       "      <td>0.971880</td>\n",
       "      <td>2401</td>\n",
       "      <td>1138</td>\n",
       "      <td>8.3014</td>\n",
       "      <td>358500</td>\n",
       "    </tr>\n",
       "    <tr>\n",
       "      <th>2</th>\n",
       "      <td>-122.24</td>\n",
       "      <td>37.85</td>\n",
       "      <td>52</td>\n",
       "      <td>8.288136</td>\n",
       "      <td>1.073446</td>\n",
       "      <td>496</td>\n",
       "      <td>177</td>\n",
       "      <td>7.2574</td>\n",
       "      <td>352100</td>\n",
       "    </tr>\n",
       "    <tr>\n",
       "      <th>3</th>\n",
       "      <td>-122.25</td>\n",
       "      <td>37.85</td>\n",
       "      <td>52</td>\n",
       "      <td>5.817352</td>\n",
       "      <td>1.073059</td>\n",
       "      <td>558</td>\n",
       "      <td>219</td>\n",
       "      <td>5.6431</td>\n",
       "      <td>341300</td>\n",
       "    </tr>\n",
       "    <tr>\n",
       "      <th>4</th>\n",
       "      <td>-122.25</td>\n",
       "      <td>37.85</td>\n",
       "      <td>52</td>\n",
       "      <td>6.281853</td>\n",
       "      <td>1.081081</td>\n",
       "      <td>565</td>\n",
       "      <td>259</td>\n",
       "      <td>3.8462</td>\n",
       "      <td>342200</td>\n",
       "    </tr>\n",
       "    <tr>\n",
       "      <th>...</th>\n",
       "      <td>...</td>\n",
       "      <td>...</td>\n",
       "      <td>...</td>\n",
       "      <td>...</td>\n",
       "      <td>...</td>\n",
       "      <td>...</td>\n",
       "      <td>...</td>\n",
       "      <td>...</td>\n",
       "      <td>...</td>\n",
       "    </tr>\n",
       "    <tr>\n",
       "      <th>20635</th>\n",
       "      <td>-121.09</td>\n",
       "      <td>39.48</td>\n",
       "      <td>25</td>\n",
       "      <td>5.045455</td>\n",
       "      <td>1.133333</td>\n",
       "      <td>845</td>\n",
       "      <td>330</td>\n",
       "      <td>1.5603</td>\n",
       "      <td>78100</td>\n",
       "    </tr>\n",
       "    <tr>\n",
       "      <th>20636</th>\n",
       "      <td>-121.21</td>\n",
       "      <td>39.49</td>\n",
       "      <td>18</td>\n",
       "      <td>6.114035</td>\n",
       "      <td>1.315789</td>\n",
       "      <td>356</td>\n",
       "      <td>114</td>\n",
       "      <td>2.5568</td>\n",
       "      <td>77100</td>\n",
       "    </tr>\n",
       "    <tr>\n",
       "      <th>20637</th>\n",
       "      <td>-121.22</td>\n",
       "      <td>39.43</td>\n",
       "      <td>17</td>\n",
       "      <td>5.205543</td>\n",
       "      <td>1.120092</td>\n",
       "      <td>1007</td>\n",
       "      <td>433</td>\n",
       "      <td>1.7000</td>\n",
       "      <td>92300</td>\n",
       "    </tr>\n",
       "    <tr>\n",
       "      <th>20638</th>\n",
       "      <td>-121.32</td>\n",
       "      <td>39.43</td>\n",
       "      <td>18</td>\n",
       "      <td>5.329513</td>\n",
       "      <td>1.171920</td>\n",
       "      <td>741</td>\n",
       "      <td>349</td>\n",
       "      <td>1.8672</td>\n",
       "      <td>84700</td>\n",
       "    </tr>\n",
       "    <tr>\n",
       "      <th>20639</th>\n",
       "      <td>-121.24</td>\n",
       "      <td>39.37</td>\n",
       "      <td>16</td>\n",
       "      <td>5.254717</td>\n",
       "      <td>1.162264</td>\n",
       "      <td>1387</td>\n",
       "      <td>530</td>\n",
       "      <td>2.3886</td>\n",
       "      <td>89400</td>\n",
       "    </tr>\n",
       "  </tbody>\n",
       "</table>\n",
       "<p>20433 rows × 9 columns</p>\n",
       "</div>"
      ],
      "text/plain": [
       "       longitude  latitude  housing_median_age  avg_rooms  avg_bedrooms  \\\n",
       "0        -122.23     37.88                  41   6.984127      1.023810   \n",
       "1        -122.22     37.86                  21   6.238137      0.971880   \n",
       "2        -122.24     37.85                  52   8.288136      1.073446   \n",
       "3        -122.25     37.85                  52   5.817352      1.073059   \n",
       "4        -122.25     37.85                  52   6.281853      1.081081   \n",
       "...          ...       ...                 ...        ...           ...   \n",
       "20635    -121.09     39.48                  25   5.045455      1.133333   \n",
       "20636    -121.21     39.49                  18   6.114035      1.315789   \n",
       "20637    -121.22     39.43                  17   5.205543      1.120092   \n",
       "20638    -121.32     39.43                  18   5.329513      1.171920   \n",
       "20639    -121.24     39.37                  16   5.254717      1.162264   \n",
       "\n",
       "       population  households  median_income  median_house_value  \n",
       "0             322         126         8.3252              452600  \n",
       "1            2401        1138         8.3014              358500  \n",
       "2             496         177         7.2574              352100  \n",
       "3             558         219         5.6431              341300  \n",
       "4             565         259         3.8462              342200  \n",
       "...           ...         ...            ...                 ...  \n",
       "20635         845         330         1.5603               78100  \n",
       "20636         356         114         2.5568               77100  \n",
       "20637        1007         433         1.7000               92300  \n",
       "20638         741         349         1.8672               84700  \n",
       "20639        1387         530         2.3886               89400  \n",
       "\n",
       "[20433 rows x 9 columns]"
      ]
     },
     "execution_count": 16,
     "metadata": {},
     "output_type": "execute_result"
    }
   ],
   "source": [
    "housing = housing.drop(['ocean_proximity'], axis=1)\n",
    "housing = housing.dropna()\n",
    "housing"
   ]
  },
  {
   "cell_type": "markdown",
   "metadata": {},
   "source": [
    "&#9989;  **Question 3.4 (6 points)**: **Do This:** Using the `OLS()` method in `statsmodels.api`, make an ordinary least squares model that predicts \"median_house_value\" using the other features and display the `.summary()` of that process. **Be sure to use the `add_constant()` method to add a column of ones to the DataFrame before using the `OLS()` method so that your linear model includes a constant term.**"
   ]
  },
  {
   "cell_type": "code",
   "execution_count": 6,
   "metadata": {},
   "outputs": [
    {
     "data": {
      "text/html": [
       "<table class=\"simpletable\">\n",
       "<caption>OLS Regression Results</caption>\n",
       "<tr>\n",
       "  <th>Dep. Variable:</th>    <td>median_house_value</td> <th>  R-squared:         </th>  <td>   0.639</td>  \n",
       "</tr>\n",
       "<tr>\n",
       "  <th>Model:</th>                    <td>OLS</td>        <th>  Adj. R-squared:    </th>  <td>   0.639</td>  \n",
       "</tr>\n",
       "<tr>\n",
       "  <th>Method:</th>              <td>Least Squares</td>   <th>  F-statistic:       </th>  <td>   4514.</td>  \n",
       "</tr>\n",
       "<tr>\n",
       "  <th>Date:</th>              <td>Fri, 25 Mar 2022</td>  <th>  Prob (F-statistic):</th>   <td>  0.00</td>   \n",
       "</tr>\n",
       "<tr>\n",
       "  <th>Time:</th>                  <td>18:28:09</td>      <th>  Log-Likelihood:    </th> <td>-2.5677e+05</td>\n",
       "</tr>\n",
       "<tr>\n",
       "  <th>No. Observations:</th>       <td> 20433</td>       <th>  AIC:               </th>  <td>5.136e+05</td> \n",
       "</tr>\n",
       "<tr>\n",
       "  <th>Df Residuals:</th>           <td> 20424</td>       <th>  BIC:               </th>  <td>5.136e+05</td> \n",
       "</tr>\n",
       "<tr>\n",
       "  <th>Df Model:</th>               <td>     8</td>       <th>                     </th>      <td> </td>     \n",
       "</tr>\n",
       "<tr>\n",
       "  <th>Covariance Type:</th>       <td>nonrobust</td>     <th>                     </th>      <td> </td>     \n",
       "</tr>\n",
       "</table>\n",
       "<table class=\"simpletable\">\n",
       "<tr>\n",
       "           <td></td>             <th>coef</th>     <th>std err</th>      <th>t</th>      <th>P>|t|</th>  <th>[0.025</th>    <th>0.975]</th>  \n",
       "</tr>\n",
       "<tr>\n",
       "  <th>const</th>              <td>-3.558e+06</td> <td> 6.35e+04</td> <td>  -56.021</td> <td> 0.000</td> <td>-3.68e+06</td> <td>-3.43e+06</td>\n",
       "</tr>\n",
       "<tr>\n",
       "  <th>longitude</th>          <td>-4.223e+04</td> <td>  725.615</td> <td>  -58.205</td> <td> 0.000</td> <td>-4.37e+04</td> <td>-4.08e+04</td>\n",
       "</tr>\n",
       "<tr>\n",
       "  <th>latitude</th>           <td>-4.213e+04</td> <td>  692.323</td> <td>  -60.854</td> <td> 0.000</td> <td>-4.35e+04</td> <td>-4.08e+04</td>\n",
       "</tr>\n",
       "<tr>\n",
       "  <th>housing_median_age</th> <td> 1139.3771</td> <td>   43.181</td> <td>   26.386</td> <td> 0.000</td> <td> 1054.739</td> <td> 1224.015</td>\n",
       "</tr>\n",
       "<tr>\n",
       "  <th>avg_rooms</th>          <td>-6625.2745</td> <td>  573.271</td> <td>  -11.557</td> <td> 0.000</td> <td>-7748.932</td> <td>-5501.617</td>\n",
       "</tr>\n",
       "<tr>\n",
       "  <th>avg_bedrooms</th>       <td> 4.571e+04</td> <td> 2737.024</td> <td>   16.699</td> <td> 0.000</td> <td> 4.03e+04</td> <td> 5.11e+04</td>\n",
       "</tr>\n",
       "<tr>\n",
       "  <th>population</th>         <td>  -41.2977</td> <td>    1.036</td> <td>  -39.865</td> <td> 0.000</td> <td>  -43.328</td> <td>  -39.267</td>\n",
       "</tr>\n",
       "<tr>\n",
       "  <th>households</th>         <td>  134.5370</td> <td>    3.087</td> <td>   43.583</td> <td> 0.000</td> <td>  128.486</td> <td>  140.588</td>\n",
       "</tr>\n",
       "<tr>\n",
       "  <th>median_income</th>      <td> 4.156e+04</td> <td>  406.403</td> <td>  102.256</td> <td> 0.000</td> <td> 4.08e+04</td> <td> 4.24e+04</td>\n",
       "</tr>\n",
       "</table>\n",
       "<table class=\"simpletable\">\n",
       "<tr>\n",
       "  <th>Omnibus:</th>       <td>4964.002</td> <th>  Durbin-Watson:     </th> <td>   0.988</td> \n",
       "</tr>\n",
       "<tr>\n",
       "  <th>Prob(Omnibus):</th>  <td> 0.000</td>  <th>  Jarque-Bera (JB):  </th> <td>20949.365</td>\n",
       "</tr>\n",
       "<tr>\n",
       "  <th>Skew:</th>           <td> 1.141</td>  <th>  Prob(JB):          </th> <td>    0.00</td> \n",
       "</tr>\n",
       "<tr>\n",
       "  <th>Kurtosis:</th>       <td> 7.404</td>  <th>  Cond. No.          </th> <td>2.52e+05</td> \n",
       "</tr>\n",
       "</table><br/><br/>Notes:<br/>[1] Standard Errors assume that the covariance matrix of the errors is correctly specified.<br/>[2] The condition number is large, 2.52e+05. This might indicate that there are<br/>strong multicollinearity or other numerical problems."
      ],
      "text/plain": [
       "<class 'statsmodels.iolib.summary.Summary'>\n",
       "\"\"\"\n",
       "                            OLS Regression Results                            \n",
       "==============================================================================\n",
       "Dep. Variable:     median_house_value   R-squared:                       0.639\n",
       "Model:                            OLS   Adj. R-squared:                  0.639\n",
       "Method:                 Least Squares   F-statistic:                     4514.\n",
       "Date:                Fri, 25 Mar 2022   Prob (F-statistic):               0.00\n",
       "Time:                        18:28:09   Log-Likelihood:            -2.5677e+05\n",
       "No. Observations:               20433   AIC:                         5.136e+05\n",
       "Df Residuals:                   20424   BIC:                         5.136e+05\n",
       "Df Model:                           8                                         \n",
       "Covariance Type:            nonrobust                                         \n",
       "======================================================================================\n",
       "                         coef    std err          t      P>|t|      [0.025      0.975]\n",
       "--------------------------------------------------------------------------------------\n",
       "const              -3.558e+06   6.35e+04    -56.021      0.000   -3.68e+06   -3.43e+06\n",
       "longitude          -4.223e+04    725.615    -58.205      0.000   -4.37e+04   -4.08e+04\n",
       "latitude           -4.213e+04    692.323    -60.854      0.000   -4.35e+04   -4.08e+04\n",
       "housing_median_age  1139.3771     43.181     26.386      0.000    1054.739    1224.015\n",
       "avg_rooms          -6625.2745    573.271    -11.557      0.000   -7748.932   -5501.617\n",
       "avg_bedrooms        4.571e+04   2737.024     16.699      0.000    4.03e+04    5.11e+04\n",
       "population           -41.2977      1.036    -39.865      0.000     -43.328     -39.267\n",
       "households           134.5370      3.087     43.583      0.000     128.486     140.588\n",
       "median_income       4.156e+04    406.403    102.256      0.000    4.08e+04    4.24e+04\n",
       "==============================================================================\n",
       "Omnibus:                     4964.002   Durbin-Watson:                   0.988\n",
       "Prob(Omnibus):                  0.000   Jarque-Bera (JB):            20949.365\n",
       "Skew:                           1.141   Prob(JB):                         0.00\n",
       "Kurtosis:                       7.404   Cond. No.                     2.52e+05\n",
       "==============================================================================\n",
       "\n",
       "Notes:\n",
       "[1] Standard Errors assume that the covariance matrix of the errors is correctly specified.\n",
       "[2] The condition number is large, 2.52e+05. This might indicate that there are\n",
       "strong multicollinearity or other numerical problems.\n",
       "\"\"\""
      ]
     },
     "execution_count": 6,
     "metadata": {},
     "output_type": "execute_result"
    }
   ],
   "source": [
    "housing = sm.add_constant(housing)\n",
    "x = housing['median_house_value'] \n",
    "y = housing.drop(columns=['median_house_value'])\n",
    "# X = sm.add_constant(x)\n",
    "model = sm.OLS(x,y)\n",
    "result = model.fit()\n",
    "result.summary()"
   ]
  },
  {
   "cell_type": "markdown",
   "metadata": {},
   "source": [
    "&#9989;  **Question 3.5 (6 points)**: **Answer These Questions:** \n",
    "1. Based on the output of the OLS summary, does this linear model appear to be a good fit? \n",
    "2. Which of these features appear to be \"significant\" in predicting the \"median_house_value\"?"
   ]
  },
  {
   "cell_type": "markdown",
   "metadata": {},
   "source": [
    "<font size=+3>&#9998;</font> \n",
    "1. Yes it seems to be a good fit. I can say that because of the R-squared value is high and the p value is low for the data. \n",
    "2. Features can be said that theyt are significant by looking at their P values. A Pvalue less than 0.05 is statistically significant. In our case all the features have a P value of 0 and hence all are significant. "
   ]
  },
  {
   "cell_type": "markdown",
   "metadata": {},
   "source": [
    "&#9989;  **Question 3.6 (4 points)**: A student from U of M managed to enroll in this class (don't ask us how) and is working on this homework. They got the following output when they used the `OLS()` method in `statsmodels.api`. \n",
    "\n",
    "<img src=\"https://i.ibb.co/pnvcKQ2/Perfect-Model.png\" width=\"400px\" border=\"0\">\n",
    "\n",
    "When you compare outputs, the Wolverine tells you \"My linear model is better than yours because my linear model has a larger $R^2$-value than your model. I guess Wolverines are way better than Spartans at data science.\"\n",
    "\n",
    "**Answer These Questions:** \n",
    "1. How did they get a linear model with a near perfect $R^2$-value? \n",
    "2. Is their model actually better than yours? \n",
    "\n",
    "Justify your answers."
   ]
  },
  {
   "cell_type": "markdown",
   "metadata": {},
   "source": [
    "<font size=+3>&#9998;</font> \n",
    "1. They get a perfect $R^2$ value because they have the median_house_value also added as a feature.\n",
    "2. No the model is not better than mine. We can see that because of their high P values, which tells that the features are not significant. "
   ]
  },
  {
   "cell_type": "markdown",
   "metadata": {},
   "source": [
    "&#9989;  **Question 3.7 (6 points)**: In the output of the OLS summary, you should have seen a note that says something like \n",
    "\n",
    "\"The condition number is large, [[number]]. This might indicate that there are strong multicollinearity or other numerical problems.\" \n",
    "\n",
    "Multicollinearity is a statistical phenomenon where some of the features in a model can be linearly predicted using some of the other features in the model. In other words, the features in the model are somewhat redundant. Hence, even if each feature may be deemed significant, it may still be possible to form a \"reduced\" model using a smaller number of features. \n",
    "\n",
    "**Do This:** See if you can design a second linear model which uses a subset of the eight features to predict the \"median_house_value\", and fits the data comparably well as the first linear model you designed in Question 3.4. You can choose this subset either by trial and error, or by any other method you'd like."
   ]
  },
  {
   "cell_type": "code",
   "execution_count": 40,
   "metadata": {},
   "outputs": [
    {
     "data": {
      "text/html": [
       "<table class=\"simpletable\">\n",
       "<caption>OLS Regression Results</caption>\n",
       "<tr>\n",
       "  <th>Dep. Variable:</th>    <td>median_house_value</td> <th>  R-squared:         </th>  <td>   0.632</td>  \n",
       "</tr>\n",
       "<tr>\n",
       "  <th>Model:</th>                    <td>OLS</td>        <th>  Adj. R-squared:    </th>  <td>   0.632</td>  \n",
       "</tr>\n",
       "<tr>\n",
       "  <th>Method:</th>              <td>Least Squares</td>   <th>  F-statistic:       </th>  <td>   5847.</td>  \n",
       "</tr>\n",
       "<tr>\n",
       "  <th>Date:</th>              <td>Fri, 25 Mar 2022</td>  <th>  Prob (F-statistic):</th>   <td>  0.00</td>   \n",
       "</tr>\n",
       "<tr>\n",
       "  <th>Time:</th>                  <td>19:36:34</td>      <th>  Log-Likelihood:    </th> <td>-2.5696e+05</td>\n",
       "</tr>\n",
       "<tr>\n",
       "  <th>No. Observations:</th>       <td> 20433</td>       <th>  AIC:               </th>  <td>5.139e+05</td> \n",
       "</tr>\n",
       "<tr>\n",
       "  <th>Df Residuals:</th>           <td> 20426</td>       <th>  BIC:               </th>  <td>5.140e+05</td> \n",
       "</tr>\n",
       "<tr>\n",
       "  <th>Df Model:</th>               <td>     6</td>       <th>                     </th>      <td> </td>     \n",
       "</tr>\n",
       "<tr>\n",
       "  <th>Covariance Type:</th>       <td>nonrobust</td>     <th>                     </th>      <td> </td>     \n",
       "</tr>\n",
       "</table>\n",
       "<table class=\"simpletable\">\n",
       "<tr>\n",
       "           <td></td>             <th>coef</th>     <th>std err</th>      <th>t</th>      <th>P>|t|</th>  <th>[0.025</th>    <th>0.975]</th>  \n",
       "</tr>\n",
       "<tr>\n",
       "  <th>const</th>              <td>-3.533e+06</td> <td> 6.15e+04</td> <td>  -57.468</td> <td> 0.000</td> <td>-3.65e+06</td> <td>-3.41e+06</td>\n",
       "</tr>\n",
       "<tr>\n",
       "  <th>longitude</th>          <td>-4.244e+04</td> <td>  697.445</td> <td>  -60.844</td> <td> 0.000</td> <td>-4.38e+04</td> <td>-4.11e+04</td>\n",
       "</tr>\n",
       "<tr>\n",
       "  <th>latitude</th>           <td>-4.271e+04</td> <td>  653.267</td> <td>  -65.386</td> <td> 0.000</td> <td> -4.4e+04</td> <td>-4.14e+04</td>\n",
       "</tr>\n",
       "<tr>\n",
       "  <th>housing_median_age</th> <td> 1137.0270</td> <td>   43.442</td> <td>   26.173</td> <td> 0.000</td> <td> 1051.877</td> <td> 1222.177</td>\n",
       "</tr>\n",
       "<tr>\n",
       "  <th>population</th>         <td>  -43.5718</td> <td>    1.036</td> <td>  -42.061</td> <td> 0.000</td> <td>  -45.602</td> <td>  -41.541</td>\n",
       "</tr>\n",
       "<tr>\n",
       "  <th>households</th>         <td>  141.0042</td> <td>    3.075</td> <td>   45.857</td> <td> 0.000</td> <td>  134.977</td> <td>  147.031</td>\n",
       "</tr>\n",
       "<tr>\n",
       "  <th>median_income</th>      <td> 3.796e+04</td> <td>  271.798</td> <td>  139.654</td> <td> 0.000</td> <td> 3.74e+04</td> <td> 3.85e+04</td>\n",
       "</tr>\n",
       "</table>\n",
       "<table class=\"simpletable\">\n",
       "<tr>\n",
       "  <th>Omnibus:</th>       <td>5303.846</td> <th>  Durbin-Watson:     </th> <td>   0.935</td> \n",
       "</tr>\n",
       "<tr>\n",
       "  <th>Prob(Omnibus):</th>  <td> 0.000</td>  <th>  Jarque-Bera (JB):  </th> <td>20764.348</td>\n",
       "</tr>\n",
       "<tr>\n",
       "  <th>Skew:</th>           <td> 1.248</td>  <th>  Prob(JB):          </th> <td>    0.00</td> \n",
       "</tr>\n",
       "<tr>\n",
       "  <th>Kurtosis:</th>       <td> 7.262</td>  <th>  Cond. No.          </th> <td>2.41e+05</td> \n",
       "</tr>\n",
       "</table><br/><br/>Notes:<br/>[1] Standard Errors assume that the covariance matrix of the errors is correctly specified.<br/>[2] The condition number is large, 2.41e+05. This might indicate that there are<br/>strong multicollinearity or other numerical problems."
      ],
      "text/plain": [
       "<class 'statsmodels.iolib.summary.Summary'>\n",
       "\"\"\"\n",
       "                            OLS Regression Results                            \n",
       "==============================================================================\n",
       "Dep. Variable:     median_house_value   R-squared:                       0.632\n",
       "Model:                            OLS   Adj. R-squared:                  0.632\n",
       "Method:                 Least Squares   F-statistic:                     5847.\n",
       "Date:                Fri, 25 Mar 2022   Prob (F-statistic):               0.00\n",
       "Time:                        19:36:34   Log-Likelihood:            -2.5696e+05\n",
       "No. Observations:               20433   AIC:                         5.139e+05\n",
       "Df Residuals:                   20426   BIC:                         5.140e+05\n",
       "Df Model:                           6                                         \n",
       "Covariance Type:            nonrobust                                         \n",
       "======================================================================================\n",
       "                         coef    std err          t      P>|t|      [0.025      0.975]\n",
       "--------------------------------------------------------------------------------------\n",
       "const              -3.533e+06   6.15e+04    -57.468      0.000   -3.65e+06   -3.41e+06\n",
       "longitude          -4.244e+04    697.445    -60.844      0.000   -4.38e+04   -4.11e+04\n",
       "latitude           -4.271e+04    653.267    -65.386      0.000    -4.4e+04   -4.14e+04\n",
       "housing_median_age  1137.0270     43.442     26.173      0.000    1051.877    1222.177\n",
       "population           -43.5718      1.036    -42.061      0.000     -45.602     -41.541\n",
       "households           141.0042      3.075     45.857      0.000     134.977     147.031\n",
       "median_income       3.796e+04    271.798    139.654      0.000    3.74e+04    3.85e+04\n",
       "==============================================================================\n",
       "Omnibus:                     5303.846   Durbin-Watson:                   0.935\n",
       "Prob(Omnibus):                  0.000   Jarque-Bera (JB):            20764.348\n",
       "Skew:                           1.248   Prob(JB):                         0.00\n",
       "Kurtosis:                       7.262   Cond. No.                     2.41e+05\n",
       "==============================================================================\n",
       "\n",
       "Notes:\n",
       "[1] Standard Errors assume that the covariance matrix of the errors is correctly specified.\n",
       "[2] The condition number is large, 2.41e+05. This might indicate that there are\n",
       "strong multicollinearity or other numerical problems.\n",
       "\"\"\""
      ]
     },
     "execution_count": 40,
     "metadata": {},
     "output_type": "execute_result"
    }
   ],
   "source": [
    "housing = sm.add_constant(housing)\n",
    "x = housing['median_house_value']\n",
    "y = housing.drop(columns=['median_house_value', 'avg_rooms', 'avg_bedrooms'])\n",
    "model = sm.OLS(x,y)\n",
    "result = model.fit()\n",
    "result.summary()"
   ]
  },
  {
   "cell_type": "markdown",
   "metadata": {},
   "source": [
    "&#9989;  **Question 3.8 (4 points)**: **Answer This:** How did your reduced linear model fit the data compared to the full linear model you created in Question 3.4? Give some quantitative justification for this answer."
   ]
  },
  {
   "cell_type": "markdown",
   "metadata": {},
   "source": [
    "<font size=+3>&#9998;</font> \n",
    "We are trying to maximize the R^2 value but find a good fit for the model. After trial and error and removing features like avg_rooms and avg_bedrooms, we are able to get a value of 0.632 which is close to the value we had with the when they were in (difference of 0.07). Reducing the data can be helpful as it will allow us to ignore some of the features that don't have that high of an impact on the predicted model.  "
   ]
  },
  {
   "cell_type": "markdown",
   "metadata": {},
   "source": [
    "&#9989;  **BONUS Question 3.9 (5 points)**: In Question 3.4, the directions specified to fit a linear model **with a constant term**. For fun, we fit a linear model without a constant term as well. Here is a comparison of the OLS summaries for the full linear model with a constant term (left) and without a constant term (right).\n",
    "\n",
    "<img src=\"https://i.ibb.co/mHJmtWQ/Comparison.png\" width=\"800px\" border=\"0\">\n",
    "\n",
    "You'll notice that the $p$-value for the constant term is very small. So one might argue that the constant term is a \"significant\" component of the model, and thus the model with the constant term is better. However, the $R^2$-value is much higher for the linear model without a constant term, and so one could also argue that the model without a constant term is better. \n",
    "\n",
    "**Answer This:** Can you explain what seems like a contradiction here? Which model (with or without a constant) do you think is more appropriate for predicting the \"median_house_value\", and why?"
   ]
  },
  {
   "cell_type": "markdown",
   "metadata": {},
   "source": [
    "<font size=+3>&#9998;</font> I think a good answer for this would be asking the question why are constants import in the first place. If we consider the equation $y=mx+b$. If we set x = 0 we can predict that the value is going to be B. But if we make the constant term b = 0, then we get $y = mx$. This would be mean that y =0 whhich means that we are assuming that the line is going to pass through the center which is not always true. Moreover because the model now just depends on x values primarly, it will predict values that are very high or very low. The constant hence forms a baseline for doing such prediction and removes any unecessary bias when predicting the data."
   ]
  },
  {
   "cell_type": "markdown",
   "metadata": {},
   "source": [
    "---\n",
    "### &#128721; STOP\n",
    "**Pause to commit your changes to your Git repository! (2 points)**\n",
    "\n",
    "Take a moment to save your notebook, commit the changes to your local `git` repository using the commit message \"Part 3 complete\", and push the changes to GitHub.\n",
    "\n",
    "---"
   ]
  },
  {
   "cell_type": "markdown",
   "metadata": {},
   "source": [
    "## Part 1. Continued (3 points)\n",
    "\n",
    "\n",
    "It is now time to merge your changes to the main branch and push"
   ]
  },
  {
   "cell_type": "markdown",
   "metadata": {},
   "source": [
    "&#9989; **Question 1.8 (1 point):** Switch to your main branch\n",
    "\n",
    "```bash\n",
    "# Put the command(s) to switch to your main branch\n",
    "```"
   ]
  },
  {
   "cell_type": "markdown",
   "metadata": {},
   "source": [
    "&#9989; **Question 1.9 (1 point):** Merge your hw04-branch\n",
    "\n",
    "```bash\n",
    "# Put the command(s) to merge your branch\n",
    "```"
   ]
  },
  {
   "cell_type": "markdown",
   "metadata": {},
   "source": [
    "&#9989; **Question 1.10 (1 point):** Finally push the changes to GitHub\n",
    "\n",
    "```bash\n",
    "# Put the command(s) to push your new main branch\n",
    "```"
   ]
  },
  {
   "cell_type": "markdown",
   "metadata": {},
   "source": [
    "---\n",
    "## Assignment wrap-up\n",
    "\n",
    "Please fill out the form that appears when you run the code below.  **You must completely fill this out in order to receive credit for the assignment!**"
   ]
  },
  {
   "cell_type": "code",
   "execution_count": null,
   "metadata": {},
   "outputs": [],
   "source": [
    "from IPython.display import HTML\n",
    "HTML(\n",
    "\"\"\"\n",
    "<iframe \n",
    "\tsrc=\"https://forms.office.com/Pages/ResponsePage.aspx?id=MHEXIi9k2UGSEXQjetVofVWe89dpqk1HpKW7eyyv-IhUOU5NSUtUUFNFMTBWVEdKQUkzR1ZPWllHWi4u\" \n",
    "\twidth=\"800px\" \n",
    "\theight=\"600px\" \n",
    "\tframeborder=\"0\" \n",
    "\tmarginheight=\"0\" \n",
    "\tmarginwidth=\"0\">\n",
    "\tLoading...\n",
    "</iframe>\n",
    "\"\"\"\n",
    ")"
   ]
  },
  {
   "cell_type": "markdown",
   "metadata": {},
   "source": [
    "## Congratulations, you're done!\n",
    "\n",
    "Submit this assignment by uploading it to the course Desire2Learn web page.  Go to the \"Homework Assignments\" folder, find the dropbox link for Homework #4, and upload it there.\n",
    "\n",
    "![Moira2](https://media.giphy.com/media/d1E2HnwywoTkES08/giphy.gif)"
   ]
  },
  {
   "cell_type": "markdown",
   "metadata": {},
   "source": [
    "&#169; Copyright 2022,  Department of Computational Mathematics, Science and Engineering at Michigan State University"
   ]
  }
 ],
 "metadata": {
  "kernelspec": {
   "display_name": "Python 3",
   "language": "python",
   "name": "python3"
  },
  "language_info": {
   "codemirror_mode": {
    "name": "ipython",
    "version": 3
   },
   "file_extension": ".py",
   "mimetype": "text/x-python",
   "name": "python",
   "nbconvert_exporter": "python",
   "pygments_lexer": "ipython3",
   "version": "3.8.8"
  },
  "toc": {
   "base_numbering": 1,
   "nav_menu": {},
   "number_sections": true,
   "sideBar": true,
   "skip_h1_title": false,
   "title_cell": "Table of Contents",
   "title_sidebar": "Contents",
   "toc_cell": false,
   "toc_position": {},
   "toc_section_display": true,
   "toc_window_display": false
  }
 },
 "nbformat": 4,
 "nbformat_minor": 4
}
