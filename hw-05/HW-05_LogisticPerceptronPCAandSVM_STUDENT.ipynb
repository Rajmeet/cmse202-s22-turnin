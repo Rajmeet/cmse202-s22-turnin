{
 "cells": [
  {
   "cell_type": "markdown",
   "metadata": {},
   "source": [
    "# Homework Assignment #5 (Individual)\n"
   ]
  },
  {
   "cell_type": "markdown",
   "metadata": {},
   "source": [
    "### <p style=\"text-align: right;\"> &#9989; Rajmeet Singh Chandok</p>\n",
    "### <p style=\"text-align: right;\"> &#9989; rajmeet</p>"
   ]
  },
  {
   "cell_type": "markdown",
   "metadata": {},
   "source": [
    "### Goals for this homework assignment\n",
    "\n",
    "By the end of this assignment, you should be able to:\n",
    "* Use `git` to track your work and turn in your assignment\n",
    "* Read in data and prepare it for modeling\n",
    "* Build, fit, and evaluate Logistic Regression models\n",
    "* Build, fit, and evaluate Perceptron models\n",
    "* Use PCA to reduce the number of features\n",
    "* Build, fit, and evaluate an SVC model on PCA-transformed data\n",
    "* Systematically investigate the effects of the number of PCA components on an SVC model of data\n",
    "\n",
    "### Assignment instructions:\n",
    "\n",
    "Work through the following assignment, making sure to follow all of the directions and answer all of the questions.\n",
    "\n",
    "There are **41 points** possible on this assignment. Point values for each part are included in the section headers.\n",
    "\n",
    "This assignment is **due at 11:59 pm on Friday, April 15th**. It should be uploaded into the \"Homework Assignments\" submission folder for Homework #5. Submission instructions can be found at the end of the notebook.. \n"
   ]
  },
  {
   "cell_type": "markdown",
   "metadata": {},
   "source": [
    "---\n",
    "## Part 1: Add to your Git repository to track your progress on your assignment (4 points)\n",
    "\n",
    "For this assignment, you're going to add it to the `cmse202-s22-turnin` repository you created in class so that you can track your progress on the assignment and preserve the final version that you turn in. In order to do this you need to\n",
    "\n",
    "**&#9989; Do the following**:\n",
    "\n",
    "1. Navigate to your `cmse202-s22-turnin` repository and create a new directory called `hw-05`.\n",
    "2. Move this notebook into that **new directory** in your repository, then **add it and commit it to your repository**.\n",
    "1. Finally, to test that everything is working, \"git push\" the file so that it ends up in your GitHub repository.\n",
    "\n",
    "**Important**: Double check you've added your Professor and your TA as collaborators to your \"turnin\" repository (you should have done this in the previous homework assignment).\n",
    "\n",
    "**Also important**: Make sure that the version of this notebook that you are working on is the same one that you just added to your repository! If you are working on a different copy of the notebook, **none of your changes will be tracked**!\n",
    "\n",
    "If everything went as intended, the file should now show up on your GitHub account in the \"`cmse202-s22-turnin`\" repository inside the `hw-05` directory that you just created.  Periodically, **you'll be asked to commit your changes to the repository and push them to the remote GitHub location**. Of course, you can always commit your changes more often than that, if you wish.  It can be good to get into a habit of committing your changes any time you make a significant modification, or when you stop working on the project for a bit.\n",
    "\n",
    "&#9989; **Do this**: Before you move on, put the command that your instructor should run to clone your repository in the markdown cell below."
   ]
  },
  {
   "cell_type": "markdown",
   "metadata": {},
   "source": [
    "```bash\n",
    "git clone https://github.com/Rajmeet/cmse202-s22-turnin.git\n",
    "```"
   ]
  },
  {
   "cell_type": "markdown",
   "metadata": {},
   "source": [
    "&#9989; **Do this**: Before you move on, create a new branch called `hw05_branch` and move into it. In the cell below put the command(s) to create a new branch and to checkout the new branch. (_Note_: your TA will be able to see if you have created the branch and its history)."
   ]
  },
  {
   "cell_type": "markdown",
   "metadata": {},
   "source": [
    "```bash\n",
    "git checkout -b hw05_branch\n",
    "```"
   ]
  },
  {
   "cell_type": "markdown",
   "metadata": {},
   "source": [
    "&#9989; **Do this**: Import necessary packages"
   ]
  },
  {
   "cell_type": "code",
   "execution_count": 2,
   "metadata": {},
   "outputs": [],
   "source": [
    "import numpy as np\n",
    "import pandas as pd\n",
    "import matplotlib.pylab as plt\n",
    "from sklearn.model_selection import train_test_split\n",
    "from sklearn.model_selection import GridSearchCV\n",
    "from sklearn.metrics import classification_report\n",
    "from sklearn.metrics import confusion_matrix, accuracy_score\n",
    "from sklearn.linear_model import Perceptron\n",
    "from sklearn.svm import SVC\n",
    "from sklearn.decomposition import PCA\n",
    "import statsmodels.api as sm"
   ]
  },
  {
   "cell_type": "markdown",
   "metadata": {},
   "source": [
    "---\n",
    "<a id=\"loading\"></a>\n",
    "## Part 2. Logistic Regression (12 points)\n",
    "### 2.1 Data processing (5 points)\n",
    "For this part, you will read and process the dataset `hw5_data.csv` and split the training and testing sets.\n",
    "\n",
    "The provided data corresponds to a molecular biology dataset, where each row represents a patient classified into either \"active\" or \"repressive\". The columns represent features, where each feature comes from the quantification of a specific gene. Ten genes (ten features) are measured. The goal is to make predictive models that can classify patients (\"active\" or \"repressive\") based on the ten features.\n",
    "\n",
    "The dataset is located at:\n",
    "`https://raw.githubusercontent.com/msu-cmse-courses/cmse202-S22-data/main/data/hw5_data.csv`\n",
    "\n",
    "\n",
    "**&#9989; Question 2.1.1 (1 point):** Read the `hw5_data.csv` file into your notebook and print out the unique labels in the `label` columns. \n",
    "\n",
    "Note: each row represents one data point and each column (except the `label` column) represents one feature. The `label` column corresponds to the class labels for every data point. There are two types of unique class labels in the `label` column. "
   ]
  },
  {
   "cell_type": "code",
   "execution_count": 3,
   "metadata": {},
   "outputs": [
    {
     "data": {
      "text/plain": [
       "array(['active', 'repressive'], dtype=object)"
      ]
     },
     "execution_count": 3,
     "metadata": {},
     "output_type": "execute_result"
    }
   ],
   "source": [
    "df = pd.read_csv('hw5_data.csv')\n",
    "df['label'].unique()"
   ]
  },
  {
   "cell_type": "markdown",
   "metadata": {},
   "source": [
    "**&#9989; Question 2.1.2 (1 point):** To simplify the process of data modeling, we should convert the labels from strings to integers.\n",
    "\n",
    "Replace all of the strings in your `label` column with integers based on the following:\n",
    "\n",
    "| original label | integer label |\n",
    "| -------- | -------- |\n",
    "| repressive | 0 |\n",
    "| active | 1 |\n",
    "\n",
    "Once you've replaced the labels, display your DataFrame and confirm that it looks correct."
   ]
  },
  {
   "cell_type": "code",
   "execution_count": 4,
   "metadata": {},
   "outputs": [
    {
     "data": {
      "text/html": [
       "<div>\n",
       "<style scoped>\n",
       "    .dataframe tbody tr th:only-of-type {\n",
       "        vertical-align: middle;\n",
       "    }\n",
       "\n",
       "    .dataframe tbody tr th {\n",
       "        vertical-align: top;\n",
       "    }\n",
       "\n",
       "    .dataframe thead th {\n",
       "        text-align: right;\n",
       "    }\n",
       "</style>\n",
       "<table border=\"1\" class=\"dataframe\">\n",
       "  <thead>\n",
       "    <tr style=\"text-align: right;\">\n",
       "      <th></th>\n",
       "      <th>label</th>\n",
       "      <th>feature_1</th>\n",
       "      <th>feature_2</th>\n",
       "      <th>feature_3</th>\n",
       "      <th>feature_4</th>\n",
       "      <th>feature_5</th>\n",
       "      <th>feature_6</th>\n",
       "      <th>feature_7</th>\n",
       "      <th>feature_8</th>\n",
       "      <th>feature_9</th>\n",
       "      <th>feature_10</th>\n",
       "    </tr>\n",
       "  </thead>\n",
       "  <tbody>\n",
       "    <tr>\n",
       "      <th>0</th>\n",
       "      <td>1</td>\n",
       "      <td>0.000168</td>\n",
       "      <td>1.089799</td>\n",
       "      <td>3.706677</td>\n",
       "      <td>1.839418</td>\n",
       "      <td>1.000414</td>\n",
       "      <td>0.751246</td>\n",
       "      <td>-0.077189</td>\n",
       "      <td>0.949589</td>\n",
       "      <td>1.641961</td>\n",
       "      <td>1.102132</td>\n",
       "    </tr>\n",
       "    <tr>\n",
       "      <th>1</th>\n",
       "      <td>1</td>\n",
       "      <td>0.355099</td>\n",
       "      <td>0.000000</td>\n",
       "      <td>2.247742</td>\n",
       "      <td>NaN</td>\n",
       "      <td>0.000000</td>\n",
       "      <td>0.194369</td>\n",
       "      <td>0.116891</td>\n",
       "      <td>-0.059497</td>\n",
       "      <td>1.086607</td>\n",
       "      <td>0.508670</td>\n",
       "    </tr>\n",
       "    <tr>\n",
       "      <th>2</th>\n",
       "      <td>1</td>\n",
       "      <td>0.001236</td>\n",
       "      <td>0.000000</td>\n",
       "      <td>NaN</td>\n",
       "      <td>0.814211</td>\n",
       "      <td>2.696122</td>\n",
       "      <td>0.221476</td>\n",
       "      <td>0.229138</td>\n",
       "      <td>-0.173686</td>\n",
       "      <td>1.091221</td>\n",
       "      <td>1.048915</td>\n",
       "    </tr>\n",
       "    <tr>\n",
       "      <th>3</th>\n",
       "      <td>1</td>\n",
       "      <td>0.690140</td>\n",
       "      <td>0.000000</td>\n",
       "      <td>0.687331</td>\n",
       "      <td>0.000000</td>\n",
       "      <td>0.527291</td>\n",
       "      <td>0.185705</td>\n",
       "      <td>-0.089479</td>\n",
       "      <td>-0.379929</td>\n",
       "      <td>-0.093369</td>\n",
       "      <td>0.272125</td>\n",
       "    </tr>\n",
       "    <tr>\n",
       "      <th>4</th>\n",
       "      <td>1</td>\n",
       "      <td>1.376770</td>\n",
       "      <td>0.631267</td>\n",
       "      <td>2.090756</td>\n",
       "      <td>1.581667</td>\n",
       "      <td>0.793976</td>\n",
       "      <td>0.846570</td>\n",
       "      <td>0.178551</td>\n",
       "      <td>0.245401</td>\n",
       "      <td>1.221811</td>\n",
       "      <td>0.111456</td>\n",
       "    </tr>\n",
       "    <tr>\n",
       "      <th>...</th>\n",
       "      <td>...</td>\n",
       "      <td>...</td>\n",
       "      <td>...</td>\n",
       "      <td>...</td>\n",
       "      <td>...</td>\n",
       "      <td>...</td>\n",
       "      <td>...</td>\n",
       "      <td>...</td>\n",
       "      <td>...</td>\n",
       "      <td>...</td>\n",
       "      <td>...</td>\n",
       "    </tr>\n",
       "    <tr>\n",
       "      <th>995</th>\n",
       "      <td>0</td>\n",
       "      <td>1.539002</td>\n",
       "      <td>0.499277</td>\n",
       "      <td>0.000000</td>\n",
       "      <td>1.934047</td>\n",
       "      <td>0.000000</td>\n",
       "      <td>0.750042</td>\n",
       "      <td>0.605361</td>\n",
       "      <td>0.436925</td>\n",
       "      <td>1.426063</td>\n",
       "      <td>0.540208</td>\n",
       "    </tr>\n",
       "    <tr>\n",
       "      <th>996</th>\n",
       "      <td>0</td>\n",
       "      <td>0.004665</td>\n",
       "      <td>0.356522</td>\n",
       "      <td>0.000000</td>\n",
       "      <td>1.646765</td>\n",
       "      <td>0.198733</td>\n",
       "      <td>0.605987</td>\n",
       "      <td>0.306014</td>\n",
       "      <td>0.437594</td>\n",
       "      <td>1.220802</td>\n",
       "      <td>0.908293</td>\n",
       "    </tr>\n",
       "    <tr>\n",
       "      <th>997</th>\n",
       "      <td>0</td>\n",
       "      <td>0.368634</td>\n",
       "      <td>2.356287</td>\n",
       "      <td>1.937731</td>\n",
       "      <td>0.684271</td>\n",
       "      <td>1.801650</td>\n",
       "      <td>1.492007</td>\n",
       "      <td>0.463434</td>\n",
       "      <td>1.313578</td>\n",
       "      <td>0.908521</td>\n",
       "      <td>0.958253</td>\n",
       "    </tr>\n",
       "    <tr>\n",
       "      <th>998</th>\n",
       "      <td>0</td>\n",
       "      <td>0.000000</td>\n",
       "      <td>1.668051</td>\n",
       "      <td>0.000000</td>\n",
       "      <td>1.213437</td>\n",
       "      <td>0.403462</td>\n",
       "      <td>1.526797</td>\n",
       "      <td>0.274236</td>\n",
       "      <td>1.283074</td>\n",
       "      <td>0.795663</td>\n",
       "      <td>0.757853</td>\n",
       "    </tr>\n",
       "    <tr>\n",
       "      <th>999</th>\n",
       "      <td>0</td>\n",
       "      <td>1.177402</td>\n",
       "      <td>0.000000</td>\n",
       "      <td>1.970539</td>\n",
       "      <td>0.119612</td>\n",
       "      <td>0.777841</td>\n",
       "      <td>-0.106966</td>\n",
       "      <td>0.368507</td>\n",
       "      <td>0.138330</td>\n",
       "      <td>0.340818</td>\n",
       "      <td>-0.378622</td>\n",
       "    </tr>\n",
       "  </tbody>\n",
       "</table>\n",
       "<p>1000 rows × 11 columns</p>\n",
       "</div>"
      ],
      "text/plain": [
       "     label  feature_1  feature_2  feature_3  feature_4  feature_5  feature_6  \\\n",
       "0        1   0.000168   1.089799   3.706677   1.839418   1.000414   0.751246   \n",
       "1        1   0.355099   0.000000   2.247742        NaN   0.000000   0.194369   \n",
       "2        1   0.001236   0.000000        NaN   0.814211   2.696122   0.221476   \n",
       "3        1   0.690140   0.000000   0.687331   0.000000   0.527291   0.185705   \n",
       "4        1   1.376770   0.631267   2.090756   1.581667   0.793976   0.846570   \n",
       "..     ...        ...        ...        ...        ...        ...        ...   \n",
       "995      0   1.539002   0.499277   0.000000   1.934047   0.000000   0.750042   \n",
       "996      0   0.004665   0.356522   0.000000   1.646765   0.198733   0.605987   \n",
       "997      0   0.368634   2.356287   1.937731   0.684271   1.801650   1.492007   \n",
       "998      0   0.000000   1.668051   0.000000   1.213437   0.403462   1.526797   \n",
       "999      0   1.177402   0.000000   1.970539   0.119612   0.777841  -0.106966   \n",
       "\n",
       "     feature_7  feature_8  feature_9  feature_10  \n",
       "0    -0.077189   0.949589   1.641961    1.102132  \n",
       "1     0.116891  -0.059497   1.086607    0.508670  \n",
       "2     0.229138  -0.173686   1.091221    1.048915  \n",
       "3    -0.089479  -0.379929  -0.093369    0.272125  \n",
       "4     0.178551   0.245401   1.221811    0.111456  \n",
       "..         ...        ...        ...         ...  \n",
       "995   0.605361   0.436925   1.426063    0.540208  \n",
       "996   0.306014   0.437594   1.220802    0.908293  \n",
       "997   0.463434   1.313578   0.908521    0.958253  \n",
       "998   0.274236   1.283074   0.795663    0.757853  \n",
       "999   0.368507   0.138330   0.340818   -0.378622  \n",
       "\n",
       "[1000 rows x 11 columns]"
      ]
     },
     "execution_count": 4,
     "metadata": {},
     "output_type": "execute_result"
    }
   ],
   "source": [
    "df['label'] = df['label'].replace(['repressive', 'active'], [0, 1])\n",
    "df"
   ]
  },
  {
   "cell_type": "markdown",
   "metadata": {},
   "source": [
    "**&#9989; Question 2.1.3 (1 point):** At this point, you've hopefully noticed that some of the rows seems to have missing data values as indicated by the existence of `NaN` values. Since we don't necessarily know what to replace these values with, let's just play it safe and remove all of the rows that have `NaN` in any of the column entries. This should help to ensure that we don't end up with errors or confusing results when we try to classify the data.\n",
    "\n",
    "Remove all of the rows that contain a `NaN` in any column. **Make sure you actually store this new version of your dataframe either in the original variable name or in a new variable name**. If everything went as intended, you should find that you have 793 rows left over."
   ]
  },
  {
   "cell_type": "code",
   "execution_count": 5,
   "metadata": {},
   "outputs": [
    {
     "data": {
      "text/plain": [
       "(793, 11)"
      ]
     },
     "execution_count": 5,
     "metadata": {},
     "output_type": "execute_result"
    }
   ],
   "source": [
    "df.dropna(inplace=True)\n",
    "df.shape"
   ]
  },
  {
   "cell_type": "markdown",
   "metadata": {},
   "source": [
    "**&#9989; Question 2.1.4 (1 point):** As we've seen when working with `sklearn` it can be much easier to work with the data if we have separate variables: one that stores the feature matrix and one that stores the class labels.\n",
    "\n",
    "Split your DataFrame so that you have two separate DataFrames: (1) one called `features`, which contains all columns of features; and (2) one called `labels`, which is a single-column dataframe that contains all of the *new* integer labels you just created. "
   ]
  },
  {
   "cell_type": "code",
   "execution_count": 6,
   "metadata": {},
   "outputs": [],
   "source": [
    "features = df.drop('label', axis=1)\n",
    "labels = df['label']"
   ]
  },
  {
   "cell_type": "markdown",
   "metadata": {},
   "source": [
    "&#9989; **Question 2.1.5 (1 point):** How balanced is your dataset? You need to write a bit of code to figure out how balanced your dataset is, by counting the numbers of data points of each classe label. "
   ]
  },
  {
   "cell_type": "code",
   "execution_count": 7,
   "metadata": {},
   "outputs": [
    {
     "data": {
      "text/plain": [
       "0    402\n",
       "1    391\n",
       "Name: label, dtype: int64"
      ]
     },
     "execution_count": 7,
     "metadata": {},
     "output_type": "execute_result"
    }
   ],
   "source": [
    "labels.value_counts()"
   ]
  },
  {
   "cell_type": "markdown",
   "metadata": {},
   "source": [
    "<font size=+3>&#9998;</font> We can use value_counts() to count the number of data points for each class labels. In this case $0$ (repressive) has a count of $402$ and $1$ (active) has a count of $391$. This is about 49.5 to 50.5 ratio or approxiately a 50:50 ratio which implies that the dataset is balanced."
   ]
  },
  {
   "cell_type": "markdown",
   "metadata": {},
   "source": [
    "---\n",
    "### 2.2 Logistic Regression (7 points)\n",
    "\n",
    "For this part, you will apply logistic regression to tackle th classification problem: predicting class labels based on the features.\n",
    "\n",
    "**&#9989; Question 2.2.1 (1 point):** Split your data into a training and a testing set with a training set representing 75% of your data. For reproducibility , set the `random_state` argument to `314159`. Print the lengths to show you have the right number of entries for the training and testing sets."
   ]
  },
  {
   "cell_type": "code",
   "execution_count": 8,
   "metadata": {},
   "outputs": [
    {
     "data": {
      "text/plain": [
       "((594, 10), (199, 10))"
      ]
     },
     "execution_count": 8,
     "metadata": {},
     "output_type": "execute_result"
    }
   ],
   "source": [
    "train_vectors, test_vectors, train_labels, test_labels = train_test_split(features, labels, test_size=0.25, random_state=314159)\n",
    "train_vectors.shape, test_vectors.shape"
   ]
  },
  {
   "cell_type": "markdown",
   "metadata": {},
   "source": [
    "**&#9989; Question 2.2.2 (3 points):** Build a Logistic regression model based on default settings.\n",
    "\n",
    "Add constant term in both training and testing features, fit Logistic regression based on the training set, and then print out the model summary.\n",
    "\n",
    "**Note:** You can use the built-in model `Logit` in `statsmodels.api`.\n"
   ]
  },
  {
   "cell_type": "code",
   "execution_count": 9,
   "metadata": {},
   "outputs": [
    {
     "name": "stdout",
     "output_type": "stream",
     "text": [
      "Optimization terminated successfully.\n",
      "         Current function value: 0.620529\n",
      "         Iterations 6\n",
      "                           Logit Regression Results                           \n",
      "==============================================================================\n",
      "Dep. Variable:                  label   No. Observations:                  594\n",
      "Model:                          Logit   Df Residuals:                      583\n",
      "Method:                           MLE   Df Model:                           10\n",
      "Date:                Mon, 18 Apr 2022   Pseudo R-squ.:                  0.1039\n",
      "Time:                        12:18:01   Log-Likelihood:                -368.59\n",
      "converged:                       True   LL-Null:                       -411.32\n",
      "Covariance Type:            nonrobust   LLR p-value:                 4.244e-14\n",
      "==============================================================================\n",
      "                 coef    std err          z      P>|z|      [0.025      0.975]\n",
      "------------------------------------------------------------------------------\n",
      "const         -0.8952      0.234     -3.830      0.000      -1.353      -0.437\n",
      "feature_1      0.5892      0.158      3.721      0.000       0.279       0.900\n",
      "feature_2      0.2239      0.427      0.525      0.600      -0.612       1.060\n",
      "feature_3      0.3242      0.072      4.475      0.000       0.182       0.466\n",
      "feature_4     -0.3273      0.332     -0.985      0.325      -0.979       0.324\n",
      "feature_5     -0.0688      0.150     -0.460      0.646      -0.362       0.224\n",
      "feature_6      0.2728      0.462      0.590      0.555      -0.633       1.179\n",
      "feature_7     -0.3599      0.437     -0.823      0.410      -1.217       0.497\n",
      "feature_8     -0.2714      0.440     -0.617      0.537      -1.133       0.590\n",
      "feature_9     -0.0728      0.435     -0.167      0.867      -0.925       0.780\n",
      "feature_10    -0.0810      0.255     -0.317      0.751      -0.581       0.419\n",
      "==============================================================================\n"
     ]
    }
   ],
   "source": [
    "logit_model = sm.Logit(train_labels, sm.add_constant(train_vectors))\n",
    "result = logit_model.fit()\n",
    "print(result.summary())"
   ]
  },
  {
   "cell_type": "markdown",
   "metadata": {},
   "source": [
    "&#9989; **Question 2.2.3 (1 point):** What is the Pseudo R^2? Which features have p-value < 0.05?"
   ]
  },
  {
   "cell_type": "markdown",
   "metadata": {},
   "source": [
    "<font size=+3>&#9998;</font> The pseudo $R^2$ value is 0.1039. Moreover, feature_1 and feature_3 have p_value < 0.05 "
   ]
  },
  {
   "cell_type": "markdown",
   "metadata": {},
   "source": [
    "&#9989; **Question 2.2.4 (2 points):** Make predictions for the testing set using the trained model.\n",
    "\n",
    "Note: the logistic regression model predicts the probability of belonging to class 1. To make the final binary classification, let's the threshold to be 0.5, which means that every sample in the testing set with predicted probability scores greater than 0.5 will be predicted as '1', and other samples with predicted probability less than 0.5 will be predicted as '0'. \n",
    "\n",
    "Show the model's accuracy score based on the testing set."
   ]
  },
  {
   "cell_type": "code",
   "execution_count": 10,
   "metadata": {},
   "outputs": [
    {
     "data": {
      "text/plain": [
       "0.6683417085427136"
      ]
     },
     "execution_count": 10,
     "metadata": {},
     "output_type": "execute_result"
    }
   ],
   "source": [
    "predictions = result.predict(sm.add_constant(test_vectors))\n",
    "predictions[predictions > 0.5] = 1\n",
    "predictions[predictions <= 0.5] = 0\n",
    "accuracy_score(predictions, test_labels)"
   ]
  },
  {
   "cell_type": "markdown",
   "metadata": {},
   "source": [
    "---\n",
    "### &#128721; STOP\n",
    "**Pause to commit your changes to your Git repository!**\n",
    "\n",
    "Take a moment to save your notebook, commit the changes to your Git repository using the commit message \"Committing Part 2\", and push the changes to GitHub.\n",
    "\n",
    "---"
   ]
  },
  {
   "cell_type": "markdown",
   "metadata": {},
   "source": [
    "---\n",
    "## Part 3. Perceptron (5 points)\n",
    "\n",
    "For this part, you will use another model, Perceptron, to continue working on the same classification problem.\n",
    "\n",
    "**&#9989; Question 3.1 (2 points):** (1) Build a Perceptron model with default settings, and fit the model based on the training set.\n",
    "\n",
    "(2) Apply the trained model on the test features to predict the labels for the testing dataset. \n",
    "\n",
    "(3) Evaluate the model by printing out the confusion matrix and classification report, based on its performance on the testing dataset.\n",
    "\n",
    "**Note:** You can use the built-in model `Perceptron` in `sklearn`."
   ]
  },
  {
   "cell_type": "code",
   "execution_count": 11,
   "metadata": {},
   "outputs": [
    {
     "data": {
      "text/plain": [
       "0.457286432160804"
      ]
     },
     "execution_count": 11,
     "metadata": {},
     "output_type": "execute_result"
    }
   ],
   "source": [
    "p = Perceptron()\n",
    "p.fit(train_vectors, train_labels)\n",
    "p.score(test_vectors, test_labels)"
   ]
  },
  {
   "cell_type": "code",
   "execution_count": 12,
   "metadata": {
    "scrolled": true
   },
   "outputs": [
    {
     "data": {
      "text/plain": [
       "array([0, 0, 0, 0, 0, 0, 0, 0, 0, 0, 0, 0, 0, 0, 0, 0, 0, 0, 0, 0, 0, 0,\n",
       "       0, 0, 0, 0, 0, 0, 0, 0, 1, 0, 0, 0, 0, 0, 0, 0, 0, 0, 0, 0, 0, 0,\n",
       "       0, 0, 0, 0, 0, 0, 0, 0, 0, 0, 0, 0, 0, 0, 0, 0, 0, 0, 0, 0, 0, 0,\n",
       "       0, 0, 0, 0, 0, 0, 0, 0, 0, 0, 1, 0, 0, 0, 0, 0, 0, 0, 0, 0, 0, 0,\n",
       "       0, 0, 0, 0, 1, 0, 0, 0, 0, 0, 0, 0, 0, 0, 0, 0, 0, 0, 0, 0, 0, 0,\n",
       "       0, 0, 0, 0, 1, 0, 0, 0, 0, 0, 0, 0, 0, 0, 0, 0, 1, 0, 0, 0, 0, 0,\n",
       "       0, 0, 0, 0, 0, 0, 0, 0, 0, 0, 0, 0, 0, 0, 0, 0, 0, 0, 0, 0, 0, 0,\n",
       "       0, 0, 0, 0, 0, 0, 0, 0, 0, 0, 0, 0, 0, 0, 0, 0, 0, 0, 0, 0, 0, 0,\n",
       "       0, 0, 0, 0, 0, 0, 0, 0, 0, 0, 0, 0, 0, 0, 0, 0, 0, 0, 0, 0, 0, 0,\n",
       "       0])"
      ]
     },
     "execution_count": 12,
     "metadata": {},
     "output_type": "execute_result"
    }
   ],
   "source": [
    "p.predict(test_vectors)"
   ]
  },
  {
   "cell_type": "code",
   "execution_count": 13,
   "metadata": {},
   "outputs": [
    {
     "name": "stdout",
     "output_type": "stream",
     "text": [
      "[[ 90   4]\n",
      " [104   1]]\n",
      "              precision    recall  f1-score   support\n",
      "\n",
      "           0       0.46      0.96      0.63        94\n",
      "           1       0.20      0.01      0.02       105\n",
      "\n",
      "    accuracy                           0.46       199\n",
      "   macro avg       0.33      0.48      0.32       199\n",
      "weighted avg       0.32      0.46      0.30       199\n",
      "\n"
     ]
    }
   ],
   "source": [
    "print(confusion_matrix(test_labels, p.predict(test_vectors)))\n",
    "print(classification_report(test_labels, p.predict(test_vectors)))"
   ]
  },
  {
   "cell_type": "markdown",
   "metadata": {},
   "source": [
    "**&#9989; Question 3.2 (3 points):**. Finding the best penalty term.\n",
    "\n",
    "`Perceptron` from the `sklearn` can employ different penalty terms, including `l1`, `l2`, and `elasticnet` (Note: check the `penalty` argument of `Perceptron`). Apply the Perceptron on the training dataset again, based on different penalty terms (i.e. make 3 Perceptron models). Print out the accuray score of each model, based on the testing dataset. \n",
    "\n",
    "Which penalty term results in the best accuracy?"
   ]
  },
  {
   "cell_type": "code",
   "execution_count": 14,
   "metadata": {},
   "outputs": [
    {
     "data": {
      "text/plain": [
       "0.5527638190954773"
      ]
     },
     "execution_count": 14,
     "metadata": {},
     "output_type": "execute_result"
    }
   ],
   "source": [
    "pl1 = Perceptron(penalty=\"l1\")\n",
    "pl1.fit(train_vectors.values, train_labels.values)\n",
    "pl1.score(test_vectors, test_labels)"
   ]
  },
  {
   "cell_type": "code",
   "execution_count": 15,
   "metadata": {},
   "outputs": [
    {
     "data": {
      "text/plain": [
       "0.4723618090452261"
      ]
     },
     "execution_count": 15,
     "metadata": {},
     "output_type": "execute_result"
    }
   ],
   "source": [
    "pl2 = Perceptron(penalty=\"l2\")\n",
    "pl2.fit(train_vectors.values, train_labels.values)\n",
    "pl2.score(test_vectors, test_labels)"
   ]
  },
  {
   "cell_type": "code",
   "execution_count": 16,
   "metadata": {
    "scrolled": true
   },
   "outputs": [
    {
     "data": {
      "text/plain": [
       "0.4723618090452261"
      ]
     },
     "execution_count": 16,
     "metadata": {},
     "output_type": "execute_result"
    }
   ],
   "source": [
    "pen = Perceptron(penalty=\"elasticnet\")\n",
    "pen.fit(train_vectors.values, train_labels.values)\n",
    "pen.score(test_vectors, test_labels)"
   ]
  },
  {
   "cell_type": "markdown",
   "metadata": {},
   "source": [
    "With the penality **l1** we get the highest accuracy."
   ]
  },
  {
   "cell_type": "markdown",
   "metadata": {},
   "source": [
    "---\n",
    "### &#128721; STOP\n",
    "**Pause to commit your changes to your Git repository!**\n",
    "\n",
    "Take a moment to save your notebook, commit the changes to your Git repository using the commit message \"Committing Part 3\", and push the changes to GitHub.\n",
    "\n",
    "---"
   ]
  },
  {
   "cell_type": "markdown",
   "metadata": {},
   "source": [
    "---\n",
    "## Part 4. Principal Component Analysis (6 points)\n",
    "\n",
    "The full model uses all 10 features to predict the results. In many cases, we might need to see how close we can get with fewer features. But instead of simply removing features, we will use a Principal Component Analysis (PCA) to determine the combined features that contribute the most the model (through their accounted variance).\n",
    "\n",
    "**&#9989; Question 4.1 (1 point):** Do a little bit of data preparation before we perform our PCA.\n",
    "\n",
    "Because the features in our dataset have very different ranges of values, the variation captured by the PCA will be skewed by these relative differences. As a result, it is good practice to **normalize** the features so that they have comparable ranges of values. Thankfully, `sklearn` has a useful function for doing this!\n",
    "\n",
    "```from sklearn.preprocessing import MinMaxScaler```\n",
    "\n",
    "Perform a \"Min-Max\" scaling to normalize the features and store the new normalized features in a new dataframe called as `features_norm`."
   ]
  },
  {
   "cell_type": "code",
   "execution_count": 30,
   "metadata": {},
   "outputs": [
    {
     "data": {
      "text/html": [
       "<div>\n",
       "<style scoped>\n",
       "    .dataframe tbody tr th:only-of-type {\n",
       "        vertical-align: middle;\n",
       "    }\n",
       "\n",
       "    .dataframe tbody tr th {\n",
       "        vertical-align: top;\n",
       "    }\n",
       "\n",
       "    .dataframe thead th {\n",
       "        text-align: right;\n",
       "    }\n",
       "</style>\n",
       "<table border=\"1\" class=\"dataframe\">\n",
       "  <thead>\n",
       "    <tr style=\"text-align: right;\">\n",
       "      <th></th>\n",
       "      <th>feature_1</th>\n",
       "      <th>feature_2</th>\n",
       "      <th>feature_3</th>\n",
       "      <th>feature_4</th>\n",
       "      <th>feature_5</th>\n",
       "      <th>feature_6</th>\n",
       "      <th>feature_7</th>\n",
       "      <th>feature_8</th>\n",
       "      <th>feature_9</th>\n",
       "      <th>feature_10</th>\n",
       "    </tr>\n",
       "  </thead>\n",
       "  <tbody>\n",
       "    <tr>\n",
       "      <th>0</th>\n",
       "      <td>0.000012</td>\n",
       "      <td>0.292383</td>\n",
       "      <td>0.538579</td>\n",
       "      <td>0.504567</td>\n",
       "      <td>0.279789</td>\n",
       "      <td>0.373396</td>\n",
       "      <td>0.084569</td>\n",
       "      <td>0.525016</td>\n",
       "      <td>0.666995</td>\n",
       "      <td>0.682334</td>\n",
       "    </tr>\n",
       "    <tr>\n",
       "      <th>3</th>\n",
       "      <td>0.051232</td>\n",
       "      <td>0.000000</td>\n",
       "      <td>0.099869</td>\n",
       "      <td>0.000000</td>\n",
       "      <td>0.147469</td>\n",
       "      <td>0.219089</td>\n",
       "      <td>0.081816</td>\n",
       "      <td>0.028220</td>\n",
       "      <td>0.136492</td>\n",
       "      <td>0.377400</td>\n",
       "    </tr>\n",
       "    <tr>\n",
       "      <th>4</th>\n",
       "      <td>0.102204</td>\n",
       "      <td>0.169363</td>\n",
       "      <td>0.303786</td>\n",
       "      <td>0.433864</td>\n",
       "      <td>0.222054</td>\n",
       "      <td>0.399405</td>\n",
       "      <td>0.141857</td>\n",
       "      <td>0.261885</td>\n",
       "      <td>0.538552</td>\n",
       "      <td>0.318372</td>\n",
       "    </tr>\n",
       "    <tr>\n",
       "      <th>6</th>\n",
       "      <td>0.030227</td>\n",
       "      <td>0.158317</td>\n",
       "      <td>0.009161</td>\n",
       "      <td>0.153590</td>\n",
       "      <td>0.103743</td>\n",
       "      <td>0.191606</td>\n",
       "      <td>0.210754</td>\n",
       "      <td>0.247571</td>\n",
       "      <td>0.367096</td>\n",
       "      <td>0.397211</td>\n",
       "    </tr>\n",
       "    <tr>\n",
       "      <th>8</th>\n",
       "      <td>0.091911</td>\n",
       "      <td>0.340339</td>\n",
       "      <td>0.220272</td>\n",
       "      <td>0.322154</td>\n",
       "      <td>0.145596</td>\n",
       "      <td>0.502093</td>\n",
       "      <td>0.161927</td>\n",
       "      <td>0.537776</td>\n",
       "      <td>0.456159</td>\n",
       "      <td>0.446565</td>\n",
       "    </tr>\n",
       "    <tr>\n",
       "      <th>...</th>\n",
       "      <td>...</td>\n",
       "      <td>...</td>\n",
       "      <td>...</td>\n",
       "      <td>...</td>\n",
       "      <td>...</td>\n",
       "      <td>...</td>\n",
       "      <td>...</td>\n",
       "      <td>...</td>\n",
       "      <td>...</td>\n",
       "      <td>...</td>\n",
       "    </tr>\n",
       "    <tr>\n",
       "      <th>995</th>\n",
       "      <td>0.114248</td>\n",
       "      <td>0.133951</td>\n",
       "      <td>0.000000</td>\n",
       "      <td>0.530525</td>\n",
       "      <td>0.000000</td>\n",
       "      <td>0.373067</td>\n",
       "      <td>0.237464</td>\n",
       "      <td>0.333451</td>\n",
       "      <td>0.600994</td>\n",
       "      <td>0.475890</td>\n",
       "    </tr>\n",
       "    <tr>\n",
       "      <th>996</th>\n",
       "      <td>0.000346</td>\n",
       "      <td>0.095651</td>\n",
       "      <td>0.000000</td>\n",
       "      <td>0.451721</td>\n",
       "      <td>0.055580</td>\n",
       "      <td>0.333762</td>\n",
       "      <td>0.170409</td>\n",
       "      <td>0.333701</td>\n",
       "      <td>0.538244</td>\n",
       "      <td>0.611120</td>\n",
       "    </tr>\n",
       "    <tr>\n",
       "      <th>997</th>\n",
       "      <td>0.027365</td>\n",
       "      <td>0.632170</td>\n",
       "      <td>0.281552</td>\n",
       "      <td>0.187701</td>\n",
       "      <td>0.503873</td>\n",
       "      <td>0.575510</td>\n",
       "      <td>0.205672</td>\n",
       "      <td>0.661026</td>\n",
       "      <td>0.442777</td>\n",
       "      <td>0.629475</td>\n",
       "    </tr>\n",
       "    <tr>\n",
       "      <th>998</th>\n",
       "      <td>0.000000</td>\n",
       "      <td>0.447522</td>\n",
       "      <td>0.000000</td>\n",
       "      <td>0.332856</td>\n",
       "      <td>0.112837</td>\n",
       "      <td>0.585003</td>\n",
       "      <td>0.163290</td>\n",
       "      <td>0.649628</td>\n",
       "      <td>0.408276</td>\n",
       "      <td>0.555850</td>\n",
       "    </tr>\n",
       "    <tr>\n",
       "      <th>999</th>\n",
       "      <td>0.087404</td>\n",
       "      <td>0.000000</td>\n",
       "      <td>0.286319</td>\n",
       "      <td>0.032811</td>\n",
       "      <td>0.217541</td>\n",
       "      <td>0.139235</td>\n",
       "      <td>0.184408</td>\n",
       "      <td>0.221876</td>\n",
       "      <td>0.269226</td>\n",
       "      <td>0.138324</td>\n",
       "    </tr>\n",
       "  </tbody>\n",
       "</table>\n",
       "<p>793 rows × 10 columns</p>\n",
       "</div>"
      ],
      "text/plain": [
       "     feature_1  feature_2  feature_3  feature_4  feature_5  feature_6  \\\n",
       "0     0.000012   0.292383   0.538579   0.504567   0.279789   0.373396   \n",
       "3     0.051232   0.000000   0.099869   0.000000   0.147469   0.219089   \n",
       "4     0.102204   0.169363   0.303786   0.433864   0.222054   0.399405   \n",
       "6     0.030227   0.158317   0.009161   0.153590   0.103743   0.191606   \n",
       "8     0.091911   0.340339   0.220272   0.322154   0.145596   0.502093   \n",
       "..         ...        ...        ...        ...        ...        ...   \n",
       "995   0.114248   0.133951   0.000000   0.530525   0.000000   0.373067   \n",
       "996   0.000346   0.095651   0.000000   0.451721   0.055580   0.333762   \n",
       "997   0.027365   0.632170   0.281552   0.187701   0.503873   0.575510   \n",
       "998   0.000000   0.447522   0.000000   0.332856   0.112837   0.585003   \n",
       "999   0.087404   0.000000   0.286319   0.032811   0.217541   0.139235   \n",
       "\n",
       "     feature_7  feature_8  feature_9  feature_10  \n",
       "0     0.084569   0.525016   0.666995    0.682334  \n",
       "3     0.081816   0.028220   0.136492    0.377400  \n",
       "4     0.141857   0.261885   0.538552    0.318372  \n",
       "6     0.210754   0.247571   0.367096    0.397211  \n",
       "8     0.161927   0.537776   0.456159    0.446565  \n",
       "..         ...        ...        ...         ...  \n",
       "995   0.237464   0.333451   0.600994    0.475890  \n",
       "996   0.170409   0.333701   0.538244    0.611120  \n",
       "997   0.205672   0.661026   0.442777    0.629475  \n",
       "998   0.163290   0.649628   0.408276    0.555850  \n",
       "999   0.184408   0.221876   0.269226    0.138324  \n",
       "\n",
       "[793 rows x 10 columns]"
      ]
     },
     "execution_count": 30,
     "metadata": {},
     "output_type": "execute_result"
    }
   ],
   "source": [
    "from sklearn.preprocessing import MinMaxScaler\n",
    "scalar = MinMaxScaler()\n",
    "\n",
    "features_norm = scalar.fit_transform(features)\n",
    "features_norm = pd.DataFrame(features_norm, columns=features.columns, index=features.index)\n",
    "features_norm"
   ]
  },
  {
   "cell_type": "markdown",
   "metadata": {},
   "source": [
    "**&#9989; Question 4.2 (1 point):** As you did in Question 2.2.1 above, split your new normalized features and corresponding labels (the labels are the same as before) into a training and a testing set, with the training set representing 75% of your data. For reproducibility , set the `random_state` argument to `314159`. Print the lengths to show you have the right number of entries."
   ]
  },
  {
   "cell_type": "code",
   "execution_count": 31,
   "metadata": {},
   "outputs": [
    {
     "data": {
      "text/plain": [
       "((594, 10), (199, 10))"
      ]
     },
     "execution_count": 31,
     "metadata": {},
     "output_type": "execute_result"
    }
   ],
   "source": [
    "train_vectors, test_vectors, train_labels, test_labels = train_test_split(features_norm, labels, test_size=0.25, random_state=314159)\n",
    "train_vectors.shape, test_vectors.shape"
   ]
  },
  {
   "cell_type": "markdown",
   "metadata": {},
   "source": [
    "**&#9989; Question 4.3 (3 points):** Run a Principle Component Analysis (PCA)\n",
    "\n",
    "Since we only have 10 features to start with, let's see how well we can do if we try to aggressively reduce the feature count and use only **3** principle components. We'll see how well we can predict the labels of dataset with just three!\n",
    "\n",
    "\n",
    "(1) Using `PCA()` and the associated `fit()` method, run a principle component analysis on your training features using only 3 components. \n",
    "\n",
    "(2) Transform both the test and training features using the result of your PCA. \n",
    "\n",
    "(3) Print the `explained_variance_ratio_`."
   ]
  },
  {
   "cell_type": "code",
   "execution_count": 22,
   "metadata": {},
   "outputs": [
    {
     "data": {
      "text/plain": [
       "array([0.29811269, 0.24310656, 0.17698509])"
      ]
     },
     "execution_count": 22,
     "metadata": {},
     "output_type": "execute_result"
    }
   ],
   "source": [
    "n_components = 3\n",
    "pca = PCA(n_components=n_components, whiten=True)\n",
    "_ = pca.fit(train_vectors)\n",
    "pca_train_vectors = pca.transform(train_vectors)\n",
    "pca_test_vectors = pca.transform(test_vectors)\n",
    "pca.explained_variance_ratio_"
   ]
  },
  {
   "cell_type": "markdown",
   "metadata": {},
   "source": [
    "&#9989; **Question 4.4 (1 point):** What is the total explained variance ratio captured by the 3 principle components? (just quote the number) How well do you think a model with these many features will perform? Why?"
   ]
  },
  {
   "cell_type": "markdown",
   "metadata": {},
   "source": [
    "We get a total variance ratio of 0.7182043490884231. The explained variance ratio is the percentage of variance that is attributed by each of the selected components. If the total value is greater than .80 i.e there are more features, the model will overfit, while if the value is less than 0.6 it underfits. Right now, with 3 features we have a good estimate and it will perform well."
   ]
  },
  {
   "cell_type": "markdown",
   "metadata": {},
   "source": [
    "---\n",
    "### &#128721; STOP\n",
    "**Pause to commit your changes to your Git repository!**\n",
    "\n",
    "Take a moment to save your notebook, commit the changes to your Git repository using the commit message \"Committing Part 4\", and push the changes to GitHub.\n",
    "\n",
    "---"
   ]
  },
  {
   "cell_type": "markdown",
   "metadata": {},
   "source": [
    "---\n",
    "## 5. Support vector machine based on PCA (14 points)\n",
    "\n",
    "### 5.1 Support vector machine (6 points)\n",
    "\n",
    "For this part, you will build SVC model using the 3 components from PCA, and do grid search to find the best hyperparameters."
   ]
  },
  {
   "cell_type": "markdown",
   "metadata": {},
   "source": [
    "**&#9989; Question 5.1.1 (2 points):** Build a linear SVC model with `C=0.1`, and fit it to the training set (using the 3 PCA components from the training set).\n",
    "\n",
    "Then use the test features to predict the labels for the testing set. \n",
    "\n",
    "Evaluate the model's performance using the **confusion matrix** and **classification report**."
   ]
  },
  {
   "cell_type": "code",
   "execution_count": 23,
   "metadata": {},
   "outputs": [
    {
     "name": "stdout",
     "output_type": "stream",
     "text": [
      "              precision    recall  f1-score   support\n",
      "\n",
      "           0       0.58      0.72      0.64        94\n",
      "           1       0.68      0.52      0.59       105\n",
      "\n",
      "    accuracy                           0.62       199\n",
      "   macro avg       0.63      0.62      0.62       199\n",
      "weighted avg       0.63      0.62      0.62       199\n",
      "\n",
      "[[68 26]\n",
      " [50 55]]\n"
     ]
    }
   ],
   "source": [
    "svc = SVC(C=0.1)\n",
    "svc.fit(pca_train_vectors, train_labels)\n",
    "print(classification_report(test_labels, svc.predict(pca_test_vectors)))\n",
    "print(confusion_matrix(test_labels, svc.predict(pca_test_vectors)))"
   ]
  },
  {
   "cell_type": "markdown",
   "metadata": {},
   "source": [
    "**&#9989; Question 5.1.2 (3 points):** Find the best hyperparameters\n",
    "\n",
    "At this point, we have fit one SVC model and determined it's performance, but is it the best model? We can use `GridSearchCV` to find the best model (given our choices of parameters). Once we do that, we will use that \"best\" model for making predictions.\n",
    "\n",
    "Using the following parameters (`C` = `1e-3`, `0.01`, `0.1`, `1`, `10`, `100` and `gamma` = `1e-6`, `1e-5`, `1e-4`, `1e-3`, `0.01`, `0.1`) for both a `linear` and `rbf` kernel use `GridSearchCV` with the `SVC()` model to find the best fit parameters. Once, you've run the grid search, print the \"best estimators\"."
   ]
  },
  {
   "cell_type": "code",
   "execution_count": 24,
   "metadata": {},
   "outputs": [
    {
     "name": "stdout",
     "output_type": "stream",
     "text": [
      "Fitting the classifier to the training set\n",
      "Best estimator found by grid search:\n",
      "SVC(C=0.1, class_weight='balanced', gamma=1e-06, kernel='linear')\n",
      "Best parameters found by grid search:\n",
      "{'C': 0.1, 'gamma': 1e-06, 'kernel': 'linear'}\n",
      "Runtime 5.9650208950042725\n"
     ]
    }
   ],
   "source": [
    "# Train a SVM classification model\n",
    "import time\n",
    "start = time.time()\n",
    "\n",
    "#make some temporary variables so you can change this easily\n",
    "tmp_vectors = pca_train_vectors\n",
    "tmp_labels = train_labels\n",
    "\n",
    "print(\"Fitting the classifier to the training set\")\n",
    "# a dictionary of hyperparameters: key is the name of the parameter, value is a list of values to test\n",
    "param_grid = {'C': [1e-3, 0.01, 0.1, 1, 10, 100],\n",
    "              'gamma': [1e-6, 1e-5, 1e-4, 1e-3, 0.01, 0.1],\n",
    "              'kernel': ['linear','rbf']}\n",
    "# make a classifier by searching over a classifier and the parameter grid\n",
    "clf = GridSearchCV(SVC(class_weight='balanced'), param_grid)\n",
    "\n",
    "# we have a \"good\" classifier (according to GridSearchCV), how's it look\n",
    "clf = clf.fit(tmp_vectors, tmp_labels)\n",
    "print(\"Best estimator found by grid search:\")\n",
    "print(clf.best_estimator_)\n",
    "print(\"Best parameters found by grid search:\")\n",
    "print(clf.best_params_)\n",
    "\n",
    "end = time.time()\n",
    "print(\"Runtime\",end - start)"
   ]
  },
  {
   "cell_type": "markdown",
   "metadata": {},
   "source": [
    "&#9989; **Question 5.1.3 (1 point):**  Evaluate the best fit model\n",
    "\n",
    "Now that we have found the \"best estimators\", let's determine how good the fit is.\n",
    "\n",
    "Use the test features to predict the labels, based on the best model. Evaluate the performance using the **confusion matrix** and **classification report**."
   ]
  },
  {
   "cell_type": "code",
   "execution_count": 25,
   "metadata": {},
   "outputs": [
    {
     "name": "stdout",
     "output_type": "stream",
     "text": [
      "Predicting names on the test set\n",
      "              precision    recall  f1-score   support\n",
      "\n",
      "           0       0.60      0.60      0.60        94\n",
      "           1       0.64      0.64      0.64       105\n",
      "\n",
      "    accuracy                           0.62       199\n",
      "   macro avg       0.62      0.62      0.62       199\n",
      "weighted avg       0.62      0.62      0.62       199\n",
      "\n",
      "[[56 38]\n",
      " [38 67]]\n"
     ]
    }
   ],
   "source": [
    "predict_vectors = pca_test_vectors\n",
    "true_labels = test_labels\n",
    "\n",
    "print(\"Predicting names on the test set\")\n",
    "pred_labels = clf.predict(predict_vectors)\n",
    "\n",
    "print(classification_report(true_labels, pred_labels))\n",
    "print(confusion_matrix(true_labels, pred_labels))"
   ]
  },
  {
   "cell_type": "markdown",
   "metadata": {},
   "source": [
    "### 5.2 How well does PCA work? (8 points)\n",
    "The number of components we use in our PCA matters. Let's investigate how they matter by systematically building a model for any number of selected components. While this might seem a bit unnecessary for such a simple dataset, **this can be very useful for more complex datasets and models!**\n",
    "\n",
    "**&#9989; Question 5.2.1 (3 points):**\n",
    "\n",
    "To systematically explore how well PCA improves our classification model, we will do this by writing a function that \n",
    "* creates the PCA\n",
    "* creates the SVC model\n",
    "* uses `GridSearchCV` to find the best hyperparameters\n",
    "* predicts the labels using test data\n",
    "* returns the accuracy scores and the explained variance ratio.\n",
    "\n",
    "Just as you did in Question 5.1.2, use the following parameters (`C` = `1e-3`, `0.01`, `0.1`, `1`, `10`, `100` and `gamma` = `1e-6`, `1e-5`, `1e-4`, `1e-3`, `0.01`, `0.1`) for both a `linear` and `rbf` kernel use `GridSearchCV` with the `SVC()` model to find the best fit parameters.\n",
    "\n",
    "So, Your function will take as input:\n",
    "* the number of requested PCA components\n",
    "* the training feature data\n",
    "* the testing feature data\n",
    "* the training data labels\n",
    "* the test data labels\n",
    "\n",
    "and it should **return** the accuracy score for an SVC model fit to pca transformed features and the **total** explained variance ratio (i.e. the sum of the explained variance for each component)."
   ]
  },
  {
   "cell_type": "code",
   "execution_count": 26,
   "metadata": {},
   "outputs": [],
   "source": [
    "# Put your code here\n",
    "\n",
    "def reduced_SVM(n_components, train_features, train_labels, test_features, test_labels):\n",
    "    \n",
    "    pca = PCA(n_components=n_components, whiten=True)\n",
    "    _ = pca.fit(train_features)\n",
    "    pca_train_vectors = pca.transform(train_features)\n",
    "    pca_test_vectors = pca.transform(test_features)\n",
    "    \n",
    "    svc = SVC()\n",
    "    param_grid = {'C': [1e-3, 0.01, 0.1, 1, 10, 100],\n",
    "              'gamma': [1e-6, 1e-5, 1e-4, 1e-3, 0.01, 0.1],\n",
    "              'kernel': ['linear','rbf']}\n",
    "    \n",
    "    clf = GridSearchCV(svc, param_grid)\n",
    "    clf.fit(pca_train_vectors, train_labels)\n",
    "    test_predictions = clf.predict(pca_test_vectors)\n",
    "    return accuracy_score(test_labels, test_predictions), sum(pca.explained_variance_ratio_)"
   ]
  },
  {
   "cell_type": "markdown",
   "metadata": {},
   "source": [
    "**&#9989; Question 5.2.2 (2 points):**\n",
    "\n",
    "Now that you have created a function that returns the accuracy for a given number of components, we will use that to plot the how the accuracy of your SVC model changes when we increase the number of components used in the PCA.\n",
    "\n",
    "For 1 through 10 components, use your function above to compute and store (as a list) the accuracy of your models and the total explained variance ratio of your models."
   ]
  },
  {
   "cell_type": "code",
   "execution_count": 27,
   "metadata": {},
   "outputs": [],
   "source": [
    "accuracy = []\n",
    "explained_variance = []\n",
    "for i in range(1, 11):\n",
    "    acc, var = reduced_SVM(i, train_vectors, train_labels, test_vectors, test_labels)\n",
    "    accuracy.append(acc)\n",
    "    explained_variance.append(var)"
   ]
  },
  {
   "cell_type": "markdown",
   "metadata": {},
   "source": [
    "**&#9989; Question 5.2.3 (1 point):** Plot the accuracy vs # of components."
   ]
  },
  {
   "cell_type": "code",
   "execution_count": 36,
   "metadata": {},
   "outputs": [
    {
     "data": {
      "image/png": "[encoded data removed]",
      "text/plain": [
       "<Figure size 432x288 with 1 Axes>"
      ]
     },
     "metadata": {
      "needs_background": "light"
     },
     "output_type": "display_data"
    }
   ],
   "source": [
    "comp = [i for i in range(1,11)]\n",
    "plt.xlabel(\"Components\")\n",
    "plt.ylabel(\"Accuracy\")\n",
    "plt.title(\"Accuracy vs Components\")\n",
    "plt.plot(comp, accuracy)\n",
    "plt.show()"
   ]
  },
  {
   "cell_type": "markdown",
   "metadata": {},
   "source": [
    "**&#9989; Question 5.2.4 (1 point):** Where does it seem like we have diminishing returns? That is, at what point is there no major increase in accuracy (or perhaps the accuracy is decreased) as we add additional components to the PCA?"
   ]
  },
  {
   "cell_type": "markdown",
   "metadata": {},
   "source": [
    "<font size=+3>&#9998;</font> The diminishing returns after 5. In the graph it can be seen that there is no major increase in the accuracy after 5. "
   ]
  },
  {
   "cell_type": "markdown",
   "metadata": {},
   "source": [
    "**&#9989; Task 5.2.5 (1 point):** Plot the total explained variance ratio vs # of components. "
   ]
  },
  {
   "cell_type": "code",
   "execution_count": 37,
   "metadata": {},
   "outputs": [
    {
     "data": {
      "image/png": "[encoded data removed]",
      "text/plain": [
       "<Figure size 432x288 with 1 Axes>"
      ]
     },
     "metadata": {
      "needs_background": "light"
     },
     "output_type": "display_data"
    }
   ],
   "source": [
    "comp = [i for i in range(1,11)]\n",
    "plt.xlabel(\"Components\")\n",
    "plt.ylabel(\"Explained Variance Ration\")\n",
    "plt.title(\"Variance Ratio vs Components\")\n",
    "plt.plot(comp, explained_variance)\n",
    "plt.show()"
   ]
  },
  {
   "cell_type": "markdown",
   "metadata": {},
   "source": [
    "---\n",
    "### &#128721; STOP\n",
    "**Pause to commit your changes to your Git repository!**\n",
    "\n",
    "Take a moment to save your notebook, commit the changes to your Git repository using the commit message \"Committing Part 5\", and push the changes to GitHub.\n",
    "\n",
    "---"
   ]
  },
  {
   "cell_type": "markdown",
   "metadata": {},
   "source": [
    "---\n",
    "## Assignment wrap-up¶\n",
    "Please fill out the form that appears when you run the code below. **You must completely fill this out in order to receive credit for the assignment!**"
   ]
  },
  {
   "cell_type": "code",
   "execution_count": null,
   "metadata": {},
   "outputs": [],
   "source": [
    "from IPython.display import HTML\n",
    "HTML(\n",
    "\"\"\"\n",
    "<iframe \n",
    "\tsrc=\"https://forms.office.com/Pages/ResponsePage.aspx?id=MHEXIi9k2UGSEXQjetVofa-byNJHa0xBs0jOGcRl02lURU83U0ZHUUpWUUFRUzhCQ0JZWDQxVVRUVi4u\" \n",
    "\twidth=\"800px\" \n",
    "\theight=\"600px\" \n",
    "\tframeborder=\"0\" \n",
    "\tmarginheight=\"0\" \n",
    "\tmarginwidth=\"0\">\n",
    "\tLoading...\n",
    "</iframe>\n",
    "\"\"\"\n",
    ")"
   ]
  },
  {
   "cell_type": "markdown",
   "metadata": {},
   "source": [
    "### Congratulations, you're done!\n",
    "Submit this assignment by uploading it to the course Desire2Learn web page. Go to the \"Homework Assignments\" folder, find the submission folder for Homework #5, and upload your notebook."
   ]
  }
 ],
 "metadata": {
  "kernelspec": {
   "display_name": "Python 3",
   "language": "python",
   "name": "python3"
  },
  "language_info": {
   "codemirror_mode": {
    "name": "ipython",
    "version": 3
   },
   "file_extension": ".py",
   "mimetype": "text/x-python",
   "name": "python",
   "nbconvert_exporter": "python",
   "pygments_lexer": "ipython3",
   "version": "3.8.8"
  }
 },
 "nbformat": 4,
 "nbformat_minor": 4
}
